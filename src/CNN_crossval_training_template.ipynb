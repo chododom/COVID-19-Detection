{
 "cells": [
  {
   "cell_type": "markdown",
   "metadata": {
    "id": "nyiq2GL9GkFv"
   },
   "source": [
    "# CNN Cross-validation Training Template\n",
    "* The purpose of this notebook is to provide an environment for using k-fold cross-validation to train convolutional neural networks.\n",
    "* It is possible to choose a specific preprocessing function that will be applied to generated images, whether traditional k-fold or stratified k-fold will be used and which model architecture will be trained.\n",
    "* The cross-validation loop saves model with best validation accuracy per each fold and after training, the overall best model is evaluated on the test set.\n",
    "* The template allows for training on the state-of-the-art COVIDx8B and the older COVIDx3 datasets.\n"
   ]
  },
  {
   "cell_type": "markdown",
   "metadata": {
    "id": "r_Ee9aJwZPhP"
   },
   "source": [
    "*Author: Dominik Chodounský, FIT CTU in Prague (Last edit: 05/11/21)*"
   ]
  },
  {
   "cell_type": "markdown",
   "metadata": {
    "id": "WaMmA1hYGnjw"
   },
   "source": [
    "## Library Imports"
   ]
  },
  {
   "cell_type": "code",
   "execution_count": null,
   "metadata": {
    "id": "NqsxDV3j_MA-"
   },
   "outputs": [],
   "source": [
    "import warnings\n",
    "warnings.filterwarnings(\"ignore\")\n",
    "import tensorflow as tf\n",
    "from tensorflow.keras import callbacks\n",
    "from tensorflow.keras.optimizers import SGD, Nadam, Adam\n",
    "from tensorflow.python.client import device_lib\n",
    "from tensorflow.keras.preprocessing.image import ImageDataGenerator\n",
    "from sklearn.model_selection import KFold, StratifiedKFold\n",
    "from sklearn.metrics import classification_report, confusion_matrix, roc_auc_score, roc_curve\n",
    "import cv2\n",
    "import matplotlib.pyplot as plt\n",
    "import seaborn as sns\n",
    "import pickle\n",
    "import time\n",
    "import random\n",
    "import numpy as np\n",
    "import os\n",
    "import sys"
   ]
  },
  {
   "cell_type": "markdown",
   "metadata": {
    "id": "yaA7qi_EG9uc"
   },
   "source": [
    "## Constants and Settings\n",
    "* Set variable *ROOT_DIR* to contain path to root *BI-BAP* folder.\n",
    "* Set variable *TRAIN_DIR* to contain the path to the training data folder (default values are meant for training on the COVIDx8B positive class data).\n",
    "* Set variable *SAVE_DIR* to contain the path to *BI-BAP/models/CNN/cross-validation* folder, where trained models are saved.\n",
    "* You may change the default parameters for the training as well, their description is provided in the following cell."
   ]
  },
  {
   "cell_type": "code",
   "execution_count": null,
   "metadata": {
    "id": "uMM_EZwP_oWP"
   },
   "outputs": [],
   "source": [
    "ROOT_PATH = '../'\n",
    "TRAIN_DIR = os.path.join(ROOT_PATH, 'data/COVIDx8B/train')\n",
    "TEST_DIR = os.path.join(ROOT_PATH, 'data/COVIDx8B/test')\n",
    "SAVE_DIR = os.path.join(ROOT_PATH, 'models/CNN/training')\n",
    "CHEXNET_PATH = os.path.join(ROOT_PATH, 'data/CheXNet_weights.h5')\n",
    "\n",
    "IMG_SIZE = 224   # target width and height of images that they will be resized to\n",
    "BATCH_SIZE = 16  # size of generated batches of images\n",
    "CHANNEL_CNT = 3  # number of channels in images (3 = RGB, 1 = Grayscale)\n",
    "EPOCH_CNT = 15   # number of epochs to use in training\n",
    "SPLIT_CNT = 4    # number k of splits for k-fold cross-validation\n",
    "RAND_SEED = 111  # random seed for reproducibility\n",
    "\n",
    "\n",
    "# ------------------------------------------------------------------------------------------------------------------------#\n",
    "np.random.seed(RAND_SEED)\n",
    "tf.random.set_seed(RAND_SEED)\n",
    "random.seed(RAND_SEED)\n",
    "os.environ['PYTHONHASHSEED'] = str(RAND_SEED)\n",
    "\n",
    "warnings.filterwarnings(\"ignore\")"
   ]
  },
  {
   "cell_type": "markdown",
   "metadata": {
    "id": "QrNk0TKXJGKQ"
   },
   "source": [
    "---\n",
    "\n",
    "\n",
    "\n"
   ]
  },
  {
   "cell_type": "markdown",
   "metadata": {
    "id": "xBvZNVlxHEnJ"
   },
   "source": [
    "## File Imports\n",
    "* Imports files containing helper functions, model definitions, preprocessing functions, etc."
   ]
  },
  {
   "cell_type": "code",
   "execution_count": null,
   "metadata": {
    "id": "m9S1ER2m7rxe"
   },
   "outputs": [],
   "source": [
    "from model_architectures.cnn_models import BaseNet, VGG_16, VGG_19, ResNet_50, xCeption, MobileNet_V2, COVIDNet, DenseNet_121\n",
    "from utils.utils import get_crossval_generators, create_dataframe, get_class_weights, get_generators, plot_eval\n",
    "from preprocessing.image_preprocessing import *\n",
    "from preprocessing.covid_net_preprocessing import *\n",
    "\n",
    "# individual preprocessing functions for pretrained models (applicable to transfer learning)\n",
    "from tensorflow.keras.applications.densenet import preprocess_input as preprocess_densenet\n",
    "from tensorflow.keras.applications.resnet50 import preprocess_input as preprocess_resnet50\n",
    "from tensorflow.keras.applications.vgg16 import preprocess_input as preprocess_vgg16\n",
    "from tensorflow.keras.applications.vgg19 import preprocess_input as preprocess_vgg19\n",
    "from tensorflow.keras.applications.xception import preprocess_input as preprocess_xception"
   ]
  },
  {
   "cell_type": "markdown",
   "metadata": {
    "id": "xV7vbi-3HKjs"
   },
   "source": [
    "## Preprocessor definitions\n",
    "* Preprocessing functions themselves are defined in *BI-BAP/src/preprocessing/image_preprocessing.py*, the following preprocessors are wrappers that allow for calling them within the Image Data Generators with necessary arguments."
   ]
  },
  {
   "cell_type": "code",
   "execution_count": null,
   "metadata": {
    "id": "P1Ef72TfJAhw"
   },
   "outputs": [],
   "source": [
    "# Performs segmentation which aims to remove section of the image with high contrast (removes diaphragm)\n",
    "def preprocessor_remove_diaphragm(img, img_size=(IMG_SIZE)):\n",
    "    removed = remove_diaphragm(img, img_size)[-1]\n",
    "    return removed / 255\n",
    "\n",
    "# Performs RGB variant for Histogram equalization\n",
    "def preprocessor_rgb_histogram_eq(img, img_size=IMG_SIZE):\n",
    "    equalized = rgb_histogram_equalization(img, img_size)[-1]\n",
    "    return equalized / 255\n",
    "\n",
    "# Performs RGB variant for Contrast limited adaptive histogram equalization (CLAHE)\n",
    "def preprocessor_rgb_clahe(img, img_size=IMG_SIZE):\n",
    "    equalized = rgb_clahe(img, img_size)[-1]\n",
    "    return equalized / 255\n",
    "\n",
    "# Default preprocessor, only performs resize and scaling\n",
    "def preprocessor(img):\n",
    "    new_img = cv2.resize(img.astype('uint8'), (IMG_SIZE, IMG_SIZE))\n",
    "    return new_img / 255"
   ]
  },
  {
   "cell_type": "markdown",
   "metadata": {
    "id": "pTCgQ14aO1sj"
   },
   "source": [
    "## Training Data sources\n",
    "* Create a DataFrame containing the training data, which will be split in each fold during cross-validation.\n",
    "* Create an Image Data Generator, that will be used to load data from the DataFrame for training and validation."
   ]
  },
  {
   "cell_type": "code",
   "execution_count": null,
   "metadata": {
    "id": "mBYfFUQdqrlq"
   },
   "outputs": [],
   "source": [
    "train_df = create_dataframe(train_dir=TRAIN_DIR)\n",
    "target = train_df.loc[:,'label']"
   ]
  },
  {
   "cell_type": "code",
   "execution_count": null,
   "metadata": {
    "id": "JIYG_vssCzTn"
   },
   "outputs": [],
   "source": [
    "if CHANNEL_CNT == 1:\n",
    "    datagen = ImageDataGenerator(\n",
    "            preprocessing_function=preprocessor\n",
    "          )\n",
    "    \n",
    "elif CHANNEL_CNT == 3:\n",
    "    datagen = ImageDataGenerator(\n",
    "            preprocessing_function=preprocessor # Choose one of the RGB preprocessors [ preprocessor, preprocessor_rgb_clage, preprocessor_rgb_histogram_eq, preprocessor_remove_diaphragm ]\n",
    "                                                # or a specific preprocessing function for a transferred architecture\n",
    "          )"
   ]
  },
  {
   "cell_type": "markdown",
   "metadata": {
    "id": "FNUYmdh1PfyZ"
   },
   "source": [
    "## Cross-validation"
   ]
  },
  {
   "cell_type": "markdown",
   "metadata": {
    "id": "FgmMiUq4PjFz"
   },
   "source": [
    "* Objects for k-fold and stratified k-fold."
   ]
  },
  {
   "cell_type": "code",
   "execution_count": null,
   "metadata": {
    "id": "Y-5uEITXu4rb"
   },
   "outputs": [],
   "source": [
    "kf = KFold(n_splits=SPLIT_CNT, random_state=RAND_SEED, shuffle=True)\n",
    "skf = StratifiedKFold(n_splits=SPLIT_CNT, random_state=RAND_SEED, shuffle=True)"
   ]
  },
  {
   "cell_type": "markdown",
   "metadata": {
    "id": "P2CKBvKuPnfj"
   },
   "source": [
    "* Callback to implement Early Stopping regularization."
   ]
  },
  {
   "cell_type": "code",
   "execution_count": null,
   "metadata": {
    "id": "rkWOI0ROPeOI"
   },
   "outputs": [],
   "source": [
    "early_stopping = callbacks.EarlyStopping(\n",
    "    monitor='val_binary_accuracy',\n",
    "    min_delta=0,\n",
    "    patience=6,\n",
    "    verbose=1,\n",
    "    mode='max',\n",
    "    restore_best_weights=True\n",
    ")"
   ]
  },
  {
   "cell_type": "markdown",
   "metadata": {
    "id": "CdBgscyqPwEy"
   },
   "source": [
    "* Cross validation loop.\n",
    "* You may wish to select *kf* for k-fold or *skf* for stratified k-fold.\n",
    "* Loop splits data according to selected folding technique, creates data sources that supply augmented and preprocessed batches of images and a selected model is trained. The model that achieved highest validation accuracy is recorded for later use.\n",
    "* Select one of the models imported from *BI-BAP/src/model_architectures/cnn_models.py*. There you can also see their initialization parameters, they all need image size and channel count as the bare minimum, some have additional optional parameters such as pre-trained weights.\n",
    "* In compilation of the model, you may specify the optimizer and its parameters.\n"
   ]
  },
  {
   "cell_type": "code",
   "execution_count": null,
   "metadata": {
    "colab": {
     "base_uri": "https://localhost:8080/"
    },
    "executionInfo": {
     "elapsed": 5411871,
     "status": "ok",
     "timestamp": 1620094050177,
     "user": {
      "displayName": "Dominik Chodounsky",
      "photoUrl": "",
      "userId": "07765122678870596271"
     },
     "user_tz": -120
    },
    "id": "_GDYg8TDwscZ",
    "outputId": "325ef6bb-e70f-477e-cb0d-14fa0711dea1"
   },
   "outputs": [
    {
     "name": "stdout",
     "output_type": "stream",
     "text": [
      "\n",
      "---------- FOLD 1 ----------\n",
      "Found 11964 validated image filenames belonging to 2 classes.\n",
      "Found 3988 validated image filenames belonging to 2 classes.\n",
      "Epoch 1/15\n",
      "374/374 [==============================] - 477s 1s/step - loss: 0.6635 - binary_accuracy: 0.5296 - val_loss: 0.5208 - val_binary_accuracy: 0.7244\n",
      "\n",
      "Epoch 00001: val_binary_accuracy improved from -inf to 0.72442, saving model to /content/drive/MyDrive/BI-BAP/models/CNN/cross-validation/covidnet/covidnet-preprocessor-Adam_0.0001-random--DUPLICATE-1.h5\n",
      "Epoch 2/15\n",
      "374/374 [==============================] - 439s 1s/step - loss: 0.5169 - binary_accuracy: 0.7319 - val_loss: 0.4860 - val_binary_accuracy: 0.7593\n",
      "\n",
      "Epoch 00002: val_binary_accuracy improved from 0.72442 to 0.75928, saving model to /content/drive/MyDrive/BI-BAP/models/CNN/cross-validation/covidnet/covidnet-preprocessor-Adam_0.0001-random--DUPLICATE-1.h5\n",
      "Epoch 3/15\n",
      "374/374 [==============================] - 440s 1s/step - loss: 0.4179 - binary_accuracy: 0.8026 - val_loss: 0.3243 - val_binary_accuracy: 0.8676\n",
      "\n",
      "Epoch 00003: val_binary_accuracy improved from 0.75928 to 0.86760, saving model to /content/drive/MyDrive/BI-BAP/models/CNN/cross-validation/covidnet/covidnet-preprocessor-Adam_0.0001-random--DUPLICATE-1.h5\n",
      "Epoch 4/15\n",
      "374/374 [==============================] - 434s 1s/step - loss: 0.3743 - binary_accuracy: 0.8373 - val_loss: 0.3799 - val_binary_accuracy: 0.8292\n",
      "\n",
      "Epoch 00004: val_binary_accuracy did not improve from 0.86760\n",
      "Epoch 5/15\n",
      "374/374 [==============================] - 433s 1s/step - loss: 0.3376 - binary_accuracy: 0.8501 - val_loss: 0.4317 - val_binary_accuracy: 0.8002\n",
      "\n",
      "Epoch 00005: val_binary_accuracy did not improve from 0.86760\n",
      "Epoch 6/15\n",
      "374/374 [==============================] - 433s 1s/step - loss: 0.2982 - binary_accuracy: 0.8665 - val_loss: 0.3866 - val_binary_accuracy: 0.8217\n",
      "\n",
      "Epoch 00006: val_binary_accuracy did not improve from 0.86760\n",
      "Epoch 7/15\n",
      "374/374 [==============================] - 434s 1s/step - loss: 0.2784 - binary_accuracy: 0.8794 - val_loss: 0.4524 - val_binary_accuracy: 0.7971\n",
      "\n",
      "Epoch 00007: val_binary_accuracy did not improve from 0.86760\n",
      "Epoch 8/15\n",
      "374/374 [==============================] - 433s 1s/step - loss: 0.2837 - binary_accuracy: 0.8727 - val_loss: 0.2822 - val_binary_accuracy: 0.8826\n",
      "\n",
      "Epoch 00008: val_binary_accuracy improved from 0.86760 to 0.88265, saving model to /content/drive/MyDrive/BI-BAP/models/CNN/cross-validation/covidnet/covidnet-preprocessor-Adam_0.0001-random--DUPLICATE-1.h5\n",
      "Epoch 9/15\n",
      "374/374 [==============================] - 443s 1s/step - loss: 0.2403 - binary_accuracy: 0.8964 - val_loss: 0.3912 - val_binary_accuracy: 0.8373\n",
      "\n",
      "Epoch 00009: val_binary_accuracy did not improve from 0.88265\n",
      "Epoch 10/15\n",
      "374/374 [==============================] - 432s 1s/step - loss: 0.2217 - binary_accuracy: 0.9019 - val_loss: 0.3424 - val_binary_accuracy: 0.8613\n",
      "\n",
      "Epoch 00010: val_binary_accuracy did not improve from 0.88265\n",
      "Epoch 11/15\n",
      "374/374 [==============================] - 431s 1s/step - loss: 0.2066 - binary_accuracy: 0.9113 - val_loss: 0.2463 - val_binary_accuracy: 0.8984\n",
      "\n",
      "Epoch 00011: val_binary_accuracy improved from 0.88265 to 0.89845, saving model to /content/drive/MyDrive/BI-BAP/models/CNN/cross-validation/covidnet/covidnet-preprocessor-Adam_0.0001-random--DUPLICATE-1.h5\n",
      "Epoch 12/15\n",
      "374/374 [==============================] - 436s 1s/step - loss: 0.1904 - binary_accuracy: 0.9182 - val_loss: 0.2346 - val_binary_accuracy: 0.9072\n",
      "\n",
      "Epoch 00012: val_binary_accuracy improved from 0.89845 to 0.90722, saving model to /content/drive/MyDrive/BI-BAP/models/CNN/cross-validation/covidnet/covidnet-preprocessor-Adam_0.0001-random--DUPLICATE-1.h5\n",
      "Epoch 13/15\n",
      "374/374 [==============================] - 439s 1s/step - loss: 0.1699 - binary_accuracy: 0.9336 - val_loss: 0.1972 - val_binary_accuracy: 0.9238\n",
      "\n",
      "Epoch 00013: val_binary_accuracy improved from 0.90722 to 0.92377, saving model to /content/drive/MyDrive/BI-BAP/models/CNN/cross-validation/covidnet/covidnet-preprocessor-Adam_0.0001-random--DUPLICATE-1.h5\n",
      "Epoch 14/15\n",
      "374/374 [==============================] - 441s 1s/step - loss: 0.1613 - binary_accuracy: 0.9337 - val_loss: 0.2500 - val_binary_accuracy: 0.9027\n",
      "\n",
      "Epoch 00014: val_binary_accuracy did not improve from 0.92377\n",
      "Epoch 15/15\n",
      "374/374 [==============================] - 442s 1s/step - loss: 0.1527 - binary_accuracy: 0.9377 - val_loss: 0.2343 - val_binary_accuracy: 0.9112\n",
      "\n",
      "Epoch 00015: val_binary_accuracy did not improve from 0.92377\n",
      "125/125 [==============================] - 79s 624ms/step - loss: 0.1972 - binary_accuracy: 0.9238\n",
      "\n",
      "Time to train fold was 6691.49 seconds\n",
      "\n",
      "---------- FOLD 2 ----------\n",
      "Found 11964 validated image filenames belonging to 2 classes.\n",
      "Found 3988 validated image filenames belonging to 2 classes.\n",
      "Epoch 1/15\n",
      "374/374 [==============================] - 432s 1s/step - loss: 0.6397 - binary_accuracy: 0.8439 - val_loss: 0.5411 - val_binary_accuracy: 0.7209\n",
      "\n",
      "Epoch 00001: val_binary_accuracy improved from -inf to 0.72091, saving model to /content/drive/MyDrive/BI-BAP/models/CNN/cross-validation/covidnet/covidnet-preprocessor-Adam_0.0001-random--DUPLICATE-2.h5\n",
      "Epoch 2/15\n",
      "374/374 [==============================] - 450s 1s/step - loss: 0.5110 - binary_accuracy: 0.7436 - val_loss: 0.3444 - val_binary_accuracy: 0.8475\n",
      "\n",
      "Epoch 00002: val_binary_accuracy improved from 0.72091 to 0.84754, saving model to /content/drive/MyDrive/BI-BAP/models/CNN/cross-validation/covidnet/covidnet-preprocessor-Adam_0.0001-random--DUPLICATE-2.h5\n",
      "Epoch 3/15\n",
      "374/374 [==============================] - 450s 1s/step - loss: 0.3943 - binary_accuracy: 0.8083 - val_loss: 0.3711 - val_binary_accuracy: 0.8345\n",
      "\n",
      "Epoch 00003: val_binary_accuracy did not improve from 0.84754\n",
      "Epoch 4/15\n",
      "374/374 [==============================] - 449s 1s/step - loss: 0.3572 - binary_accuracy: 0.8303 - val_loss: 0.3594 - val_binary_accuracy: 0.8378\n",
      "\n",
      "Epoch 00004: val_binary_accuracy did not improve from 0.84754\n",
      "Epoch 5/15\n",
      "374/374 [==============================] - 444s 1s/step - loss: 0.3222 - binary_accuracy: 0.8588 - val_loss: 0.3872 - val_binary_accuracy: 0.8260\n",
      "\n",
      "Epoch 00005: val_binary_accuracy did not improve from 0.84754\n",
      "Epoch 6/15\n",
      "374/374 [==============================] - 450s 1s/step - loss: 0.2995 - binary_accuracy: 0.8636 - val_loss: 0.2707 - val_binary_accuracy: 0.8862\n",
      "\n",
      "Epoch 00006: val_binary_accuracy improved from 0.84754 to 0.88616, saving model to /content/drive/MyDrive/BI-BAP/models/CNN/cross-validation/covidnet/covidnet-preprocessor-Adam_0.0001-random--DUPLICATE-2.h5\n",
      "Epoch 7/15\n",
      "374/374 [==============================] - 450s 1s/step - loss: 0.2715 - binary_accuracy: 0.8816 - val_loss: 0.2695 - val_binary_accuracy: 0.8872\n",
      "\n",
      "Epoch 00007: val_binary_accuracy improved from 0.88616 to 0.88716, saving model to /content/drive/MyDrive/BI-BAP/models/CNN/cross-validation/covidnet/covidnet-preprocessor-Adam_0.0001-random--DUPLICATE-2.h5\n",
      "Epoch 8/15\n",
      "374/374 [==============================] - 448s 1s/step - loss: 0.2781 - binary_accuracy: 0.8773 - val_loss: 0.3036 - val_binary_accuracy: 0.8704\n",
      "\n",
      "Epoch 00008: val_binary_accuracy did not improve from 0.88716\n",
      "Epoch 9/15\n",
      "374/374 [==============================] - 449s 1s/step - loss: 0.2440 - binary_accuracy: 0.8962 - val_loss: 0.2581 - val_binary_accuracy: 0.9002\n",
      "\n",
      "Epoch 00009: val_binary_accuracy improved from 0.88716 to 0.90020, saving model to /content/drive/MyDrive/BI-BAP/models/CNN/cross-validation/covidnet/covidnet-preprocessor-Adam_0.0001-random--DUPLICATE-2.h5\n",
      "Epoch 10/15\n",
      "374/374 [==============================] - 455s 1s/step - loss: 0.2231 - binary_accuracy: 0.9096 - val_loss: 0.1915 - val_binary_accuracy: 0.9300\n",
      "\n",
      "Epoch 00010: val_binary_accuracy improved from 0.90020 to 0.93004, saving model to /content/drive/MyDrive/BI-BAP/models/CNN/cross-validation/covidnet/covidnet-preprocessor-Adam_0.0001-random--DUPLICATE-2.h5\n",
      "Epoch 11/15\n",
      "374/374 [==============================] - 451s 1s/step - loss: 0.2194 - binary_accuracy: 0.9057 - val_loss: 0.1954 - val_binary_accuracy: 0.9303\n",
      "\n",
      "Epoch 00011: val_binary_accuracy improved from 0.93004 to 0.93029, saving model to /content/drive/MyDrive/BI-BAP/models/CNN/cross-validation/covidnet/covidnet-preprocessor-Adam_0.0001-random--DUPLICATE-2.h5\n",
      "Epoch 12/15\n",
      "374/374 [==============================] - 445s 1s/step - loss: 0.2007 - binary_accuracy: 0.9141 - val_loss: 0.1829 - val_binary_accuracy: 0.9338\n",
      "\n",
      "Epoch 00012: val_binary_accuracy improved from 0.93029 to 0.93380, saving model to /content/drive/MyDrive/BI-BAP/models/CNN/cross-validation/covidnet/covidnet-preprocessor-Adam_0.0001-random--DUPLICATE-2.h5\n",
      "Epoch 13/15\n",
      "374/374 [==============================] - 442s 1s/step - loss: 0.1848 - binary_accuracy: 0.9238 - val_loss: 0.2115 - val_binary_accuracy: 0.9213\n",
      "\n",
      "Epoch 00013: val_binary_accuracy did not improve from 0.93380\n",
      "Epoch 14/15\n",
      "374/374 [==============================] - 452s 1s/step - loss: 0.1655 - binary_accuracy: 0.9313 - val_loss: 0.2215 - val_binary_accuracy: 0.9218\n",
      "\n",
      "Epoch 00014: val_binary_accuracy did not improve from 0.93380\n",
      "Epoch 15/15\n",
      "374/374 [==============================] - 446s 1s/step - loss: 0.1498 - binary_accuracy: 0.9367 - val_loss: 0.2969 - val_binary_accuracy: 0.8781\n",
      "\n",
      "Epoch 00015: val_binary_accuracy did not improve from 0.93380\n",
      "125/125 [==============================] - 78s 621ms/step - loss: 0.1829 - binary_accuracy: 0.9338\n",
      "\n",
      "Time to train fold was 6817.10 seconds\n",
      "\n",
      "---------- FOLD 3 ----------\n",
      "Found 11964 validated image filenames belonging to 2 classes.\n",
      "Found 3988 validated image filenames belonging to 2 classes.\n",
      "Epoch 1/15\n",
      "374/374 [==============================] - 433s 1s/step - loss: 0.6563 - binary_accuracy: 0.7594 - val_loss: 0.4700 - val_binary_accuracy: 0.7716\n",
      "\n",
      "Epoch 00001: val_binary_accuracy improved from -inf to 0.77156, saving model to /content/drive/MyDrive/BI-BAP/models/CNN/cross-validation/covidnet/covidnet-preprocessor-Adam_0.0001-random--DUPLICATE-3.h5\n",
      "Epoch 2/15\n",
      "374/374 [==============================] - 452s 1s/step - loss: 0.4853 - binary_accuracy: 0.7531 - val_loss: 0.6285 - val_binary_accuracy: 0.6760\n",
      "\n",
      "Epoch 00002: val_binary_accuracy did not improve from 0.77156\n",
      "Epoch 3/15\n",
      "374/374 [==============================] - 454s 1s/step - loss: 0.4103 - binary_accuracy: 0.8021 - val_loss: 0.3926 - val_binary_accuracy: 0.8152\n",
      "\n",
      "Epoch 00003: val_binary_accuracy improved from 0.77156 to 0.81520, saving model to /content/drive/MyDrive/BI-BAP/models/CNN/cross-validation/covidnet/covidnet-preprocessor-Adam_0.0001-random--DUPLICATE-3.h5\n",
      "Epoch 4/15\n",
      "374/374 [==============================] - 456s 1s/step - loss: 0.3579 - binary_accuracy: 0.8357 - val_loss: 0.3249 - val_binary_accuracy: 0.8588\n",
      "\n",
      "Epoch 00004: val_binary_accuracy improved from 0.81520 to 0.85883, saving model to /content/drive/MyDrive/BI-BAP/models/CNN/cross-validation/covidnet/covidnet-preprocessor-Adam_0.0001-random--DUPLICATE-3.h5\n",
      "Epoch 5/15\n",
      "374/374 [==============================] - 449s 1s/step - loss: 0.3251 - binary_accuracy: 0.8554 - val_loss: 0.3191 - val_binary_accuracy: 0.8578\n",
      "\n",
      "Epoch 00005: val_binary_accuracy did not improve from 0.85883\n",
      "Epoch 6/15\n",
      "374/374 [==============================] - 447s 1s/step - loss: 0.2961 - binary_accuracy: 0.8739 - val_loss: 0.2660 - val_binary_accuracy: 0.8912\n",
      "\n",
      "Epoch 00006: val_binary_accuracy improved from 0.85883 to 0.89117, saving model to /content/drive/MyDrive/BI-BAP/models/CNN/cross-validation/covidnet/covidnet-preprocessor-Adam_0.0001-random--DUPLICATE-3.h5\n",
      "Epoch 7/15\n",
      "374/374 [==============================] - 455s 1s/step - loss: 0.2922 - binary_accuracy: 0.8791 - val_loss: 0.3351 - val_binary_accuracy: 0.8538\n",
      "\n",
      "Epoch 00007: val_binary_accuracy did not improve from 0.89117\n",
      "Epoch 8/15\n",
      "374/374 [==============================] - 457s 1s/step - loss: 0.2529 - binary_accuracy: 0.8875 - val_loss: 0.2950 - val_binary_accuracy: 0.8706\n",
      "\n",
      "Epoch 00008: val_binary_accuracy did not improve from 0.89117\n",
      "Epoch 9/15\n",
      "374/374 [==============================] - 455s 1s/step - loss: 0.2417 - binary_accuracy: 0.8931 - val_loss: 0.2104 - val_binary_accuracy: 0.9200\n",
      "\n",
      "Epoch 00009: val_binary_accuracy improved from 0.89117 to 0.92001, saving model to /content/drive/MyDrive/BI-BAP/models/CNN/cross-validation/covidnet/covidnet-preprocessor-Adam_0.0001-random--DUPLICATE-3.h5\n",
      "Epoch 10/15\n",
      "374/374 [==============================] - 454s 1s/step - loss: 0.2160 - binary_accuracy: 0.9098 - val_loss: 0.3233 - val_binary_accuracy: 0.8661\n",
      "\n",
      "Epoch 00010: val_binary_accuracy did not improve from 0.92001\n",
      "Epoch 11/15\n",
      "374/374 [==============================] - 453s 1s/step - loss: 0.2118 - binary_accuracy: 0.9044 - val_loss: 0.2800 - val_binary_accuracy: 0.8894\n",
      "\n",
      "Epoch 00011: val_binary_accuracy did not improve from 0.92001\n",
      "Epoch 12/15\n",
      "374/374 [==============================] - 451s 1s/step - loss: 0.1913 - binary_accuracy: 0.9202 - val_loss: 0.2184 - val_binary_accuracy: 0.9170\n",
      "\n",
      "Epoch 00012: val_binary_accuracy did not improve from 0.92001\n",
      "Epoch 13/15\n",
      "374/374 [==============================] - 445s 1s/step - loss: 0.1876 - binary_accuracy: 0.9189 - val_loss: 0.3331 - val_binary_accuracy: 0.8714\n",
      "\n",
      "Epoch 00013: val_binary_accuracy did not improve from 0.92001\n",
      "Epoch 14/15\n",
      "374/374 [==============================] - 451s 1s/step - loss: 0.1881 - binary_accuracy: 0.9181 - val_loss: 0.1974 - val_binary_accuracy: 0.9333\n",
      "\n",
      "Epoch 00014: val_binary_accuracy improved from 0.92001 to 0.93330, saving model to /content/drive/MyDrive/BI-BAP/models/CNN/cross-validation/covidnet/covidnet-preprocessor-Adam_0.0001-random--DUPLICATE-3.h5\n",
      "Epoch 15/15\n",
      "374/374 [==============================] - 451s 1s/step - loss: 0.1627 - binary_accuracy: 0.9303 - val_loss: 0.2457 - val_binary_accuracy: 0.9130\n",
      "\n",
      "Epoch 00015: val_binary_accuracy did not improve from 0.93330\n",
      "125/125 [==============================] - 81s 643ms/step - loss: 0.1974 - binary_accuracy: 0.9333\n",
      "\n",
      "Time to train fold was 6870.73 seconds\n",
      "\n",
      "---------- FOLD 4 ----------\n",
      "Found 11964 validated image filenames belonging to 2 classes.\n",
      "Found 3988 validated image filenames belonging to 2 classes.\n",
      "Epoch 1/15\n",
      "374/374 [==============================] - 434s 1s/step - loss: 0.6591 - binary_accuracy: 0.7013 - val_loss: 0.5814 - val_binary_accuracy: 0.6748\n",
      "\n",
      "Epoch 00001: val_binary_accuracy improved from -inf to 0.67477, saving model to /content/drive/MyDrive/BI-BAP/models/CNN/cross-validation/covidnet/covidnet-preprocessor-Adam_0.0001-random--DUPLICATE-4.h5\n",
      "Epoch 2/15\n",
      "374/374 [==============================] - 449s 1s/step - loss: 0.5013 - binary_accuracy: 0.7288 - val_loss: 0.6123 - val_binary_accuracy: 0.6572\n",
      "\n",
      "Epoch 00002: val_binary_accuracy did not improve from 0.67477\n",
      "Epoch 3/15\n",
      "374/374 [==============================] - 446s 1s/step - loss: 0.4015 - binary_accuracy: 0.8064 - val_loss: 0.4169 - val_binary_accuracy: 0.7976\n",
      "\n",
      "Epoch 00003: val_binary_accuracy improved from 0.67477 to 0.79764, saving model to /content/drive/MyDrive/BI-BAP/models/CNN/cross-validation/covidnet/covidnet-preprocessor-Adam_0.0001-random--DUPLICATE-4.h5\n",
      "Epoch 4/15\n",
      "374/374 [==============================] - 451s 1s/step - loss: 0.3617 - binary_accuracy: 0.8341 - val_loss: 0.4365 - val_binary_accuracy: 0.7783\n",
      "\n",
      "Epoch 00004: val_binary_accuracy did not improve from 0.79764\n",
      "Epoch 5/15\n",
      "374/374 [==============================] - 453s 1s/step - loss: 0.3239 - binary_accuracy: 0.8537 - val_loss: 0.2743 - val_binary_accuracy: 0.8882\n",
      "\n",
      "Epoch 00005: val_binary_accuracy improved from 0.79764 to 0.88816, saving model to /content/drive/MyDrive/BI-BAP/models/CNN/cross-validation/covidnet/covidnet-preprocessor-Adam_0.0001-random--DUPLICATE-4.h5\n",
      "Epoch 6/15\n",
      "374/374 [==============================] - 448s 1s/step - loss: 0.3006 - binary_accuracy: 0.8757 - val_loss: 0.2362 - val_binary_accuracy: 0.9057\n",
      "\n",
      "Epoch 00006: val_binary_accuracy improved from 0.88816 to 0.90572, saving model to /content/drive/MyDrive/BI-BAP/models/CNN/cross-validation/covidnet/covidnet-preprocessor-Adam_0.0001-random--DUPLICATE-4.h5\n",
      "Epoch 7/15\n",
      "374/374 [==============================] - 453s 1s/step - loss: 0.2811 - binary_accuracy: 0.8767 - val_loss: 0.2936 - val_binary_accuracy: 0.8739\n",
      "\n",
      "Epoch 00007: val_binary_accuracy did not improve from 0.90572\n",
      "Epoch 8/15\n",
      "374/374 [==============================] - 452s 1s/step - loss: 0.2615 - binary_accuracy: 0.8912 - val_loss: 0.3445 - val_binary_accuracy: 0.8458\n",
      "\n",
      "Epoch 00008: val_binary_accuracy did not improve from 0.90572\n",
      "Epoch 9/15\n",
      "374/374 [==============================] - 447s 1s/step - loss: 0.2591 - binary_accuracy: 0.8914 - val_loss: 0.2447 - val_binary_accuracy: 0.8982\n",
      "\n",
      "Epoch 00009: val_binary_accuracy did not improve from 0.90572\n",
      "Epoch 10/15\n",
      "374/374 [==============================] - 454s 1s/step - loss: 0.2300 - binary_accuracy: 0.9031 - val_loss: 0.2086 - val_binary_accuracy: 0.9165\n",
      "\n",
      "Epoch 00010: val_binary_accuracy improved from 0.90572 to 0.91650, saving model to /content/drive/MyDrive/BI-BAP/models/CNN/cross-validation/covidnet/covidnet-preprocessor-Adam_0.0001-random--DUPLICATE-4.h5\n",
      "Epoch 11/15\n",
      "374/374 [==============================] - 448s 1s/step - loss: 0.2035 - binary_accuracy: 0.9179 - val_loss: 0.3381 - val_binary_accuracy: 0.8608\n",
      "\n",
      "Epoch 00011: val_binary_accuracy did not improve from 0.91650\n",
      "Epoch 12/15\n",
      "374/374 [==============================] - 443s 1s/step - loss: 0.2150 - binary_accuracy: 0.9101 - val_loss: 0.2982 - val_binary_accuracy: 0.8799\n",
      "\n",
      "Epoch 00012: val_binary_accuracy did not improve from 0.91650\n",
      "Epoch 13/15\n",
      "374/374 [==============================] - 447s 1s/step - loss: 0.1878 - binary_accuracy: 0.9194 - val_loss: 0.2945 - val_binary_accuracy: 0.8776\n",
      "\n",
      "Epoch 00013: val_binary_accuracy did not improve from 0.91650\n",
      "Epoch 14/15\n",
      "374/374 [==============================] - 452s 1s/step - loss: 0.2028 - binary_accuracy: 0.9094 - val_loss: 0.2304 - val_binary_accuracy: 0.9112\n",
      "\n",
      "Epoch 00014: val_binary_accuracy did not improve from 0.91650\n",
      "Epoch 15/15\n",
      "374/374 [==============================] - 447s 1s/step - loss: 0.1734 - binary_accuracy: 0.9257 - val_loss: 0.1997 - val_binary_accuracy: 0.9223\n",
      "\n",
      "Epoch 00015: val_binary_accuracy improved from 0.91650 to 0.92227, saving model to /content/drive/MyDrive/BI-BAP/models/CNN/cross-validation/covidnet/covidnet-preprocessor-Adam_0.0001-random--DUPLICATE-4.h5\n",
      "125/125 [==============================] - 78s 619ms/step - loss: 0.1997 - binary_accuracy: 0.9223\n",
      "\n",
      "Time to train fold was 6823.42 seconds\n"
     ]
    }
   ],
   "source": [
    "valid_acc = []\n",
    "valid_loss = []\n",
    "histories = []\n",
    "\n",
    "fold = 1\n",
    "\n",
    "# cross-validation loop (pick kf for K-Fold or skf for Stratified K-Fold)\n",
    "for train_index, valid_index in skf.split(X=train_df.index, y=target):\n",
    "\n",
    "    print(f'\\n---------- FOLD {fold} ----------')\n",
    "    start = time.time()\n",
    "\n",
    "    # prepare cross-validation data splits\n",
    "    train_data = train_df.iloc[train_index]\n",
    "    valid_data = train_df.iloc[valid_index]\n",
    "    train_gen, valid_gen = get_crossval_generators(datagen, TRAIN_DIR, train_data, valid_data, IMG_SIZE, BATCH_SIZE, CHANNEL_CNT, True, RAND_SEED)\n",
    "\n",
    "    # build model\n",
    "    cnn = COVIDNet(IMG_SIZE, CHANNEL_CNT, weights='random') # Choose one model architecture of [ BaseNet(), COVIDNet(), VGG_16(), VGG_19(), ResNet_50(), xCeption() ]\n",
    "    cnn.compile(optimizer=Adam(learning_rate=0.0001))\n",
    "\n",
    "    # model description which determines the name of the model when it is saved\n",
    "    model_description = {\n",
    "    'name': cnn.name,\n",
    "    'preprocessor': datagen.preprocessing_function.__name__,\n",
    "    'optimizer': 'Adam_0.0001',\n",
    "    'weights': cnn.weights,\n",
    "    'notes': '' # start with '-'\n",
    "    }\n",
    "    model_save = os.path.join(SAVE_DIR, model_description['name'], model_description['name'] + '-' + model_description['preprocessor'] + '-' \\\n",
    "                          + model_description['optimizer'] + '-' + model_description['weights'] + '-' + model_description['notes'] + '-' + str(fold) + '.h5')\n",
    "\n",
    "    # callback for continuous checkpointing of best model configuration\n",
    "    checkpointing = callbacks.ModelCheckpoint(\n",
    "        filepath=model_save,\n",
    "        monitor='val_binary_accuracy',\n",
    "        verbose=1,\n",
    "        save_best_only=True,\n",
    "        mode='max'\n",
    "    )\n",
    "\n",
    "    # train and save training history\n",
    "    history = cnn.model.fit(x=train_gen, validation_data=valid_gen, epochs=EPOCH_CNT, verbose=1, callbacks=[early_stopping, checkpointing], class_weight=get_class_weights(TRAIN_DIR))\n",
    "    histories.append(history.history)\n",
    "\n",
    "    # load the model that had highest validation accuracy during training, evaluate it and record its performance\n",
    "    cnn.model.load_weights(model_save)\n",
    "    results = cnn.model.evaluate(valid_gen)\n",
    "    results_dict = dict(zip(cnn.model.metrics_names, results))\n",
    "    valid_acc.append(results_dict['binary_accuracy'])\n",
    "    valid_loss.append(results_dict['loss'])\n",
    "\n",
    "    # checkpoint the current progress of the whole cross-validation\n",
    "    history_save = os.path.join(SAVE_DIR, model_description['name'], model_description['name'] + '-' + model_description['preprocessor'] + '-' \\\n",
    "                          + model_description['optimizer'] + '-' + model_description['weights'] + '-' + model_description['notes'] + '-history')\n",
    "    with open(history_save, 'wb') as history_file: \n",
    "        pickle.dump(histories, history_file)\n",
    "\n",
    "    # reset TF graph to clear memory\n",
    "    tf.keras.backend.clear_session()\n",
    "\n",
    "    fold += 1\n",
    "    print(f'\\nTime to train fold was {(time.time() - start):.2f} seconds')"
   ]
  },
  {
   "cell_type": "code",
   "execution_count": null,
   "metadata": {
    "colab": {
     "base_uri": "https://localhost:8080/"
    },
    "executionInfo": {
     "elapsed": 3542,
     "status": "ok",
     "timestamp": 1620224483438,
     "user": {
      "displayName": "Dominik Chodounsky",
      "photoUrl": "",
      "userId": "08689403905106948098"
     },
     "user_tz": -120
    },
    "id": "RNIg1QMGKKI0",
    "outputId": "d23735da-0b20-49c6-a925-733221f27ba4"
   },
   "outputs": [
    {
     "name": "stdout",
     "output_type": "stream",
     "text": [
      "Average binary validation accuracy: 0.9363\n",
      "Average validation loss: 0.5105\n"
     ]
    }
   ],
   "source": [
    "print(f'Average binary validation accuracy: {np.average(valid_acc):.4f}')\n",
    "print(f'Average validation loss: {np.average(valid_loss):.4f}')"
   ]
  },
  {
   "cell_type": "markdown",
   "metadata": {
    "id": "wjPULVWx0lQQ"
   },
   "source": [
    "* Save the training history of each fold as a serialized object."
   ]
  },
  {
   "cell_type": "code",
   "execution_count": null,
   "metadata": {
    "id": "lb8lDOGFsWOH"
   },
   "outputs": [],
   "source": [
    "history_save = os.path.join(SAVE_DIR, model_description['name'], model_description['name'] + '-' + model_description['preprocessor'] + '-' \\\n",
    "                          + model_description['optimizer'] + '-' + model_description['weights'] + '-history')\n",
    "with open(history_save, 'wb') as history_file: \n",
    "        pickle.dump(histories, history_file)\n",
    "history_dict = pickle.load(open(history_save, \"rb\"))"
   ]
  },
  {
   "cell_type": "markdown",
   "metadata": {
    "id": "pgrWqwwg0sCc"
   },
   "source": [
    "* Display the progress throughout the training of each fold."
   ]
  },
  {
   "cell_type": "code",
   "execution_count": null,
   "metadata": {
    "colab": {
     "base_uri": "https://localhost:8080/",
     "height": 364
    },
    "executionInfo": {
     "elapsed": 1242,
     "status": "ok",
     "timestamp": 1620224502874,
     "user": {
      "displayName": "Dominik Chodounsky",
      "photoUrl": "",
      "userId": "08689403905106948098"
     },
     "user_tz": -120
    },
    "id": "2Zbq0ob4tRuj",
    "outputId": "2161303f-5924-4413-8196-a097f9e22f5a"
   },
   "outputs": [
    {
     "data": {
      "text/plain": [
       "<matplotlib.legend.Legend at 0x7fb34b75b6d0>"
      ]
     },
     "execution_count": 19,
     "metadata": {
      "tags": []
     },
     "output_type": "execute_result"
    },
    {
     "data": {
      "image/png": "[encoded data removed]",
      "text/plain": [
       "<Figure size 720x360 with 1 Axes>"
      ]
     },
     "metadata": {
      "needs_background": "light",
      "tags": []
     },
     "output_type": "display_data"
    }
   ],
   "source": [
    "plt.figure(figsize=(10,5))\n",
    "labels = ['Fold 1', 'Fold 2', 'Fold 3', 'Fold 4']\n",
    "for h in history_dict:\n",
    "    plt.plot(h[\"val_binary_accuracy\"], label=labels[history_dict.index(h)])\n",
    "    plt.tick_params(axis='both', which='major', labelsize=13)\n",
    "    plt.xlabel('Epoch', fontsize=15)\n",
    "    plt.ylabel('Validation accuracy', fontsize=15)\n",
    "    plt.ylim(0.5, 1)\n",
    "\n",
    "plt.legend(loc='lower right', fontsize=15)"
   ]
  },
  {
   "cell_type": "markdown",
   "metadata": {
    "id": "ib7QOcjfQ0sJ"
   },
   "source": [
    "## Evaluation of the best model\n",
    "* Find which fold contained the model with the highest validation accuracy, load this model and evaluate it on the test set and the complete training set."
   ]
  },
  {
   "cell_type": "code",
   "execution_count": null,
   "metadata": {
    "colab": {
     "base_uri": "https://localhost:8080/"
    },
    "executionInfo": {
     "elapsed": 1151,
     "status": "ok",
     "timestamp": 1620224545698,
     "user": {
      "displayName": "Dominik Chodounsky",
      "photoUrl": "",
      "userId": "08689403905106948098"
     },
     "user_tz": -120
    },
    "id": "XH9ovvpolDXL",
    "outputId": "84fa7512-4b50-479d-e26f-f29e52cd01ce"
   },
   "outputs": [
    {
     "name": "stdout",
     "output_type": "stream",
     "text": [
      "Fold 4 achieved the best validation accuracy of 0.941675\n"
     ]
    }
   ],
   "source": [
    "best_fold = np.argmax(valid_acc)\n",
    "print(f'Fold {best_fold + 1} achieved the best validation accuracy of {(valid_acc[best_fold]):4f}')"
   ]
  },
  {
   "cell_type": "code",
   "execution_count": null,
   "metadata": {
    "colab": {
     "base_uri": "https://localhost:8080/"
    },
    "executionInfo": {
     "elapsed": 71506,
     "status": "ok",
     "timestamp": 1620224681183,
     "user": {
      "displayName": "Dominik Chodounsky",
      "photoUrl": "",
      "userId": "08689403905106948098"
     },
     "user_tz": -120
    },
    "id": "1wZjP_iBlE-S",
    "outputId": "28160882-cc64-495a-faa9-76dd447cad16"
   },
   "outputs": [
    {
     "name": "stdout",
     "output_type": "stream",
     "text": [
      "Found 15952 images belonging to 2 classes.\n",
      "Found 0 images belonging to 2 classes.\n",
      "Found 400 images belonging to 2 classes.\n",
      "13/13 [==============================] - 63s 3s/step - loss: 0.3011 - binary_accuracy: 0.8975\n"
     ]
    }
   ],
   "source": [
    "best_save = os.path.join(SAVE_DIR, model_description['name'], model_description['name'] + '-' + model_description['preprocessor'] + '-' \\\n",
    "                          + model_description['optimizer'] + '-' + model_description['weights'] + '-' + model_description['notes'] + '-' + str(best_fold + 1) + '.h5')\n",
    "\n",
    "best_cnn = tf.keras.models.load_model(best_save)\n",
    "train_gen, _, test_gen = get_generators(datagen, TRAIN_DIR, TEST_DIR, IMG_SIZE, BATCH_SIZE, CHANNEL_CNT, True, RAND_SEED)\n",
    "\n",
    "# test set evaluation\n",
    "score = best_cnn.evaluate(x=test_gen, verbose=1)"
   ]
  },
  {
   "cell_type": "code",
   "execution_count": null,
   "metadata": {
    "colab": {
     "base_uri": "https://localhost:8080/"
    },
    "executionInfo": {
     "elapsed": 451855,
     "status": "ok",
     "timestamp": 1620225166906,
     "user": {
      "displayName": "Dominik Chodounsky",
      "photoUrl": "",
      "userId": "08689403905106948098"
     },
     "user_tz": -120
    },
    "id": "nmfqttbk_Wum",
    "outputId": "6ea064e6-a60e-41f4-a068-bf8004748b9d"
   },
   "outputs": [
    {
     "name": "stdout",
     "output_type": "stream",
     "text": [
      "499/499 [==============================] - 450s 901ms/step - loss: 0.1331 - binary_accuracy: 0.9521\n"
     ]
    }
   ],
   "source": [
    "# training set evaluation\n",
    "score = best_cnn.evaluate(x=train_gen, verbose=1)"
   ]
  },
  {
   "cell_type": "code",
   "execution_count": null,
   "metadata": {
    "id": "0PQKW_Rt_gOJ"
   },
   "outputs": [],
   "source": [
    "# calculation of other metrics based on the test set performance\n",
    "test_gen.reset()\n",
    "y_pred_prob = best_cnn.predict_generator(test_gen)\n",
    "y_pred = y_pred_prob.copy()\n",
    "y_pred[y_pred <= 0.5] = 0\n",
    "y_pred[y_pred > 0.5] = 1\n",
    "\n",
    "y_true = np.asarray(test_gen.classes[test_gen.index_array])\n",
    "tn, fp, fn, tp = confusion_matrix(y_true, y_pred).ravel()"
   ]
  },
  {
   "cell_type": "code",
   "execution_count": null,
   "metadata": {
    "colab": {
     "base_uri": "https://localhost:8080/"
    },
    "executionInfo": {
     "elapsed": 482129,
     "status": "ok",
     "timestamp": 1620225198913,
     "user": {
      "displayName": "Dominik Chodounsky",
      "photoUrl": "",
      "userId": "08689403905106948098"
     },
     "user_tz": -120
    },
    "id": "7nvO9ngb_mhN",
    "outputId": "200c7b97-e026-4b51-f556-e67411ea5654"
   },
   "outputs": [
    {
     "name": "stdout",
     "output_type": "stream",
     "text": [
      "              precision    recall  f1-score   support\n",
      "\n",
      "           0       0.87      0.94      0.90       200\n",
      "           1       0.93      0.85      0.89       200\n",
      "\n",
      "    accuracy                           0.90       400\n",
      "   macro avg       0.90      0.90      0.90       400\n",
      "weighted avg       0.90      0.90      0.90       400\n",
      "\n"
     ]
    }
   ],
   "source": [
    "print(classification_report(y_true, y_pred))"
   ]
  },
  {
   "cell_type": "code",
   "execution_count": null,
   "metadata": {
    "colab": {
     "base_uri": "https://localhost:8080/"
    },
    "executionInfo": {
     "elapsed": 1206,
     "status": "ok",
     "timestamp": 1620225200161,
     "user": {
      "displayName": "Dominik Chodounsky",
      "photoUrl": "",
      "userId": "08689403905106948098"
     },
     "user_tz": -120
    },
    "id": "VZ9bhKHf_pEm",
    "outputId": "7d675f11-b177-4d60-da4b-227e17ce8626"
   },
   "outputs": [
    {
     "data": {
      "text/plain": [
       "0.855"
      ]
     },
     "execution_count": 31,
     "metadata": {
      "tags": []
     },
     "output_type": "execute_result"
    }
   ],
   "source": [
    "# Specificity (TPR)\n",
    "tp/(tp+fn)"
   ]
  },
  {
   "cell_type": "code",
   "execution_count": null,
   "metadata": {
    "colab": {
     "base_uri": "https://localhost:8080/"
    },
    "executionInfo": {
     "elapsed": 1195,
     "status": "ok",
     "timestamp": 1620225200163,
     "user": {
      "displayName": "Dominik Chodounsky",
      "photoUrl": "",
      "userId": "08689403905106948098"
     },
     "user_tz": -120
    },
    "id": "cVEbd6gD_p31",
    "outputId": "7dd89f1e-3f4f-4592-ac12-7cbc526911dc"
   },
   "outputs": [
    {
     "data": {
      "text/plain": [
       "0.94"
      ]
     },
     "execution_count": 32,
     "metadata": {
      "tags": []
     },
     "output_type": "execute_result"
    }
   ],
   "source": [
    "# Sensitivity (TNR)\n",
    "tn/(tn+fp)"
   ]
  },
  {
   "cell_type": "code",
   "execution_count": null,
   "metadata": {
    "colab": {
     "base_uri": "https://localhost:8080/"
    },
    "executionInfo": {
     "elapsed": 1189,
     "status": "ok",
     "timestamp": 1620225200165,
     "user": {
      "displayName": "Dominik Chodounsky",
      "photoUrl": "",
      "userId": "08689403905106948098"
     },
     "user_tz": -120
    },
    "id": "YfPLB2fynkY7",
    "outputId": "836875e3-f981-412a-9784-8a9e4e1ae79b"
   },
   "outputs": [
    {
     "data": {
      "text/plain": [
       "0.9344262295081968"
      ]
     },
     "execution_count": 33,
     "metadata": {
      "tags": []
     },
     "output_type": "execute_result"
    }
   ],
   "source": [
    "# Positive Predictive Value (PPV)\n",
    "tp/(tp+fp)"
   ]
  },
  {
   "cell_type": "code",
   "execution_count": null,
   "metadata": {
    "colab": {
     "base_uri": "https://localhost:8080/",
     "height": 593
    },
    "executionInfo": {
     "elapsed": 1789,
     "status": "ok",
     "timestamp": 1620225200774,
     "user": {
      "displayName": "Dominik Chodounsky",
      "photoUrl": "",
      "userId": "08689403905106948098"
     },
     "user_tz": -120
    },
    "id": "8Zd9GgJQ_rKW",
    "outputId": "a22e0728-2409-4aee-aeab-63cb3ee34139"
   },
   "outputs": [
    {
     "data": {
      "image/png": "[encoded data removed]",
      "text/plain": [
       "<Figure size 432x288 with 2 Axes>"
      ]
     },
     "metadata": {
      "needs_background": "light",
      "tags": []
     },
     "output_type": "display_data"
    },
    {
     "data": {
      "image/png": "[encoded data removed]",
      "text/plain": [
       "<Figure size 432x288 with 1 Axes>"
      ]
     },
     "metadata": {
      "needs_background": "light",
      "tags": []
     },
     "output_type": "display_data"
    }
   ],
   "source": [
    "plot_eval(y_true, y_pred_prob, y_pred)"
   ]
  }
 ],
 "metadata": {
  "accelerator": "GPU",
  "colab": {
   "collapsed_sections": [],
   "name": "CNN_crossval_training_template.ipynb",
   "provenance": [],
   "toc_visible": true
  },
  "kernelspec": {
   "display_name": "Python 3",
   "language": "python",
   "name": "python3"
  },
  "language_info": {
   "codemirror_mode": {
    "name": "ipython",
    "version": 3
   },
   "file_extension": ".py",
   "mimetype": "text/x-python",
   "name": "python",
   "nbconvert_exporter": "python",
   "pygments_lexer": "ipython3",
   "version": "3.8.8"
  }
 },
 "nbformat": 4,
 "nbformat_minor": 1
}
