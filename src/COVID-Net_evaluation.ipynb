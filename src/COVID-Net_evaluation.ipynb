{
 "cells": [
  {
   "cell_type": "markdown",
   "metadata": {
    "id": "8rmxYjzIikwV"
   },
   "source": [
    "# COVIDNet-CXR-2 evaluation\n",
    "\n",
    "* **WARNING:** This notebook requires TensorFlow 1.15 version, please downgrade before proceeding (original notebook was run in Google Colab environment where it is possible to switch between versions).\n",
    "\n",
    "* The purpose of this notebook is to research and test the capabilities of the current state-of-the-art model for COVID-19 detection.\n",
    "* The chosen model is the COVIDNet-CXR-2 model, available at https://github.com/lindawangg/COVID-Net.\n",
    "* The model was trained on the COVIDx8B dataset for binary detection of 'positive' and 'negative' chest X-ray images. It is currently the best model for performing this task on this dataset to our knowledge.\n",
    "* We also evaluate an older version of the COVID-Net architecture called the COVID-Net CXR3-B, which was trained on an old version of the dataset COVIDx3 for categorical classification of 'normal', 'COVID-19', and 'pneumonia' images. This thesis is focused on automatic diagnosis of COVID-19, so we will filter the evaluation process to only consider images that are COVID-19 'positive' or 'negative' by taking the maximum of the two pneumonia predictions and using it in place of the 'positive' class's prediction.\n",
    "* Both models are evaluated on both of the versions of the dataset to test their generalization ability.\n",
    "* The models are available at https://github.com/lindawangg/COVID-Net/blob/master/docs/models.md."
   ]
  },
  {
   "cell_type": "markdown",
   "metadata": {
    "id": "kV-tAZ0hZQxg"
   },
   "source": [
    "*Author: Dominik Chodounský, FIT CTU in Prague (Last edit: 05/11/21)*"
   ]
  },
  {
   "cell_type": "markdown",
   "metadata": {
    "id": "TZYiit4AVC1-"
   },
   "source": [
    "## Imports and Colab session settings\n",
    "* Due to the origin of the evaluated model, we must downgrade TensorFlow to version 1.15"
   ]
  },
  {
   "cell_type": "code",
   "execution_count": 1,
   "metadata": {
    "id": "_XmP0kPv-dGR"
   },
   "outputs": [],
   "source": [
    "import warnings\n",
    "warnings.filterwarnings(\"ignore\")\n",
    "import tensorflow as tf\n",
    "from tensorflow.keras import callbacks\n",
    "from tensorflow.keras.optimizers import SGD, Nadam, Adam\n",
    "from tensorflow.python.client import device_lib\n",
    "from tensorflow.keras.preprocessing.image import ImageDataGenerator\n",
    "from sklearn.metrics import classification_report, confusion_matrix, roc_auc_score, roc_curve\n",
    "import cv2\n",
    "from matplotlib.colors import Normalize\n",
    "import matplotlib.pyplot as plt\n",
    "import seaborn as sns\n",
    "import time\n",
    "import random\n",
    "import numpy as np\n",
    "import os\n",
    "import sys"
   ]
  },
  {
   "cell_type": "markdown",
   "metadata": {
    "id": "6ObNl1-lWlRs"
   },
   "source": [
    "## Constants and Settings\n",
    "* Set variables *TEST_DIR* to contain paths to the specific test sets of each dataset version."
   ]
  },
  {
   "cell_type": "code",
   "execution_count": 2,
   "metadata": {
    "id": "96tXL5-N_n_4"
   },
   "outputs": [],
   "source": [
    "ROOT_PATH = '../'\n",
    "x8_TEST_DIR = os.path.join(ROOT_PATH, 'data/COVIDx8B/test')\n",
    "x3_TEST_DIR = os.path.join(ROOT_PATH, 'data/COVIDx3/test')\n",
    "\n",
    "RAND_SEED = 111 # random seed for reproducibility\n",
    "\n",
    "# ------------------------------------------------------------------------------------------------------------------------#\n",
    "np.random.seed(RAND_SEED)\n",
    "tf.compat.v1.set_random_seed(RAND_SEED)\n",
    "random.seed(RAND_SEED)\n",
    "os.environ['PYTHONHASHSEED'] = str(RAND_SEED)\n",
    "\n",
    "warnings.filterwarnings(\"ignore\")"
   ]
  },
  {
   "cell_type": "markdown",
   "metadata": {
    "id": "N9t0y1BaTkCC"
   },
   "source": [
    "## File Imports\n",
    "* Imports files containing helper functions, preprocessing functions, etc."
   ]
  },
  {
   "cell_type": "code",
   "execution_count": 3,
   "metadata": {
    "id": "FRbCojRdMocd"
   },
   "outputs": [],
   "source": [
    "from preprocessing.covid_net_preprocessing import *\n",
    "from utils.utils import create_dataframe, get_generators, get_class_weights, plot_eval"
   ]
  },
  {
   "cell_type": "markdown",
   "metadata": {
    "id": "k5XnPDCgqXm5"
   },
   "source": [
    "* Define necessary functions for evaluating the provided models."
   ]
  },
  {
   "cell_type": "code",
   "execution_count": 4,
   "metadata": {
    "id": "x0hxywFNNgJ5"
   },
   "outputs": [],
   "source": [
    "def covid_net_prediction_binary(img_path, graph, session, args, verbose=False):\n",
    "    \"\"\"\n",
    "    Returns the prediction of a model that performs binary classification on a specific CXR image.\n",
    "    Function is based on original COVID-Net paper and corresponding GitHub repo: https://github.com/lindawangg/COVID-Net/blob/master/inference.py\n",
    "    \n",
    "    Parameters\n",
    "    ----------\n",
    "    img_path : str\n",
    "        Path to the image to perform the pridction on.\n",
    "    graph : TensorFlow.Graph\n",
    "        TensorFlow graph of the model to perform the prediction with.\n",
    "    session : TensorFlow.Session\n",
    "        TensorFlow session to run the prediction in.\n",
    "    args : dict\n",
    "        Dictionary of arguments that specify the model and its parameters.\n",
    "    verbose : bool\n",
    "        Whether to print the final predictions. Default value: False.\n",
    "\n",
    "    Returns\n",
    "    -------\n",
    "    pred : (str, float)\n",
    "        Tuple where first element is the predicted class and the second element is the predicted probability.\n",
    "    \"\"\"\n",
    "\n",
    "    mapping = {0: 'negative', 1: 'positive'}\n",
    "\n",
    "    image_tensor = graph.get_tensor_by_name(args['in_tensorname'])\n",
    "    pred_tensor = graph.get_tensor_by_name(args['out_tensorname'])\n",
    "\n",
    "    x = process_image_file(img_path, args['top_percent'], args['input_size'])\n",
    "    x = x.astype('float32') / 255.0\n",
    "    pred = session.run(pred_tensor, feed_dict={image_tensor: np.expand_dims(x, axis=0)})[0]\n",
    "    \n",
    "    if verbose:\n",
    "        print('Prediction: {}'.format(mapping[pred.argmax()]))\n",
    "        print('Confidence')\n",
    "        print('Negative (Normal): {:.3f}, Positive (Pneumonia): {:.3f}'.format(pred[0], pred[1]))\n",
    "    return mapping[pred.argmax()], pred[1]\n",
    "\n",
    "\n",
    "def covid_net_prediction_categorical(img_path, graph, session, args, verbose=False):\n",
    "    \"\"\"\n",
    "    Returns the binary prediction of a model that was built to perform categorical classification on a specific CXR image.\n",
    "    The pulmonary diseases are combined by taking their maximum probability estimate.\n",
    "    Function is based on original COVID-Net paper and corresponding GitHub repo: https://github.com/lindawangg/COVID-Net/blob/master/inference_pneumonia.py\n",
    "    \n",
    "    Parameters\n",
    "    ----------\n",
    "    img_path : str\n",
    "        Path to the image to perform the pridction on.\n",
    "    graph : TensorFlow.Graph\n",
    "        TensorFlow graph of the model to perform the prediction with.\n",
    "    session : TensorFlow.Session\n",
    "        TensorFlow session to run the prediction in.\n",
    "    args : dict\n",
    "        Dictionary of arguments that specify the model and its parameters.\n",
    "    verbose : bool\n",
    "        Whether to print the final predictions. Default value: False.\n",
    "\n",
    "    Returns\n",
    "    -------\n",
    "    pred : (str, float)\n",
    "        Tuple where first element is the predicted class and the second element is the predicted probability.\n",
    "    \"\"\"\n",
    "    mapping = {0: 'negative', 1: 'positive'}\n",
    "\n",
    "    image_tensor = graph.get_tensor_by_name(args['in_tensorname'])\n",
    "    pred_tensor = graph.get_tensor_by_name(args['out_tensorname'])\n",
    "\n",
    "    x = process_image_file(img_path, args['top_percent'], args['input_size'])\n",
    "    x = x.astype('float32') / 255.0\n",
    "\n",
    "    pred = session.run(pred_tensor, feed_dict={image_tensor: np.expand_dims(x, axis=0)})\n",
    "    pred_pneumonia = np.array([pred[0][0], np.max([pred[0][1], pred[0][2]])]) # combine pneumonia and covid predictions into single pneumonia prediction -> to get binary covid detection\n",
    "    pred_pneumonia = pred_pneumonia / np.sum(pred_pneumonia)\n",
    "\n",
    "    if verbose:\n",
    "        print('Prediction: {}'.format(mapping[pred_pneumonia.argmax()]))\n",
    "        print('Confidence')\n",
    "        print('Negative (Normal): {:.3f}, Positive (Pneumonia): {:.3f}'.format(pred_pneumonia[0], pred_pneumonia[1]))\n",
    "    return mapping[pred_pneumonia.argmax()], pred_pneumonia[1]\n",
    "\n",
    "\n",
    "def evaluate_covidnet(model_dict, data_df, data_path, type='binary'):\n",
    "    \"\"\"\n",
    "    Returns the binary prediction of a model that was built to perform categorical classification on a specific CXR image.\n",
    "    The pulmonary diseases are combined by taking their maximum probability estimate.\n",
    "    Function is based on original COVID-Net paper and corresponding GitHub repo: https://github.com/lindawangg/COVID-Net/blob/master/inference_pneumonia.py\n",
    "    \n",
    "    Parameters\n",
    "    ----------\n",
    "    model_dict : dict\n",
    "        Dictionary of arguments that specify the model and its parameters.\n",
    "    data_df : pandas.DataFrame\n",
    "        DataFrame containing the names and labels of the data for evaluation.\n",
    "    data_path : str\n",
    "        Path to the directory with the data for evaluation.\n",
    "    type : str\n",
    "        Specifies whether the tested model was originally built for 'binary' or 'categorical' classification. Default value: binary.\n",
    "\n",
    "    Returns\n",
    "    -------\n",
    "    pred : (str, float)\n",
    "        Tuple where first element is an array of ground truth labels for the evaluated data and the second element contains the model's probability predictions.\n",
    "    \"\"\"\n",
    "\n",
    "    new_graph = tf.Graph()\n",
    "    with tf.Session(graph=new_graph) as sess:\n",
    "        tf.get_default_graph()\n",
    "        saver = tf.train.import_meta_graph(os.path.join(model_dict['weightspath'], model_dict['metaname']))\n",
    "        saver.restore(sess, os.path.join(model_dict['weightspath'], model_dict['ckptname']))\n",
    "        covid_net = tf.get_default_graph()\n",
    "\n",
    "        total, correct, y_true, y_pred_prob = 0, 0, [], []\n",
    "        for index, row in data_df.iterrows():\n",
    "            img = os.path.join(data_path, row['path'])\n",
    "            if type == 'binary':\n",
    "                pred = covid_net_prediction_binary(img_path=img, graph=covid_net, session=sess, args=model_dict, verbose=False)\n",
    "            elif type == 'categorical':\n",
    "                pred = covid_net_prediction_categorical(img_path=img, graph=covid_net, session=sess, args=cxr3B, verbose=False)\n",
    "            if row['label'] == pred[0]:\n",
    "                correct += 1\n",
    "            if row['label'] == 'positive':\n",
    "                y_true.append(1)\n",
    "            else:\n",
    "                y_true.append(0)\n",
    "            y_pred_prob.append(pred[1])\n",
    "            total += 1\n",
    "        print(f\"\\nAccuracy of model {model_dict['name']} on the test set was: {correct/total:.2%}\")\n",
    "\n",
    "    tf.reset_default_graph()\n",
    "    return np.asarray(y_true), np.asarray(y_pred_prob)"
   ]
  },
  {
   "cell_type": "markdown",
   "metadata": {
    "id": "NjtXA4D2W8QM"
   },
   "source": [
    "## Test COVID-Net CXR-2 on COVIDx8B"
   ]
  },
  {
   "cell_type": "markdown",
   "metadata": {
    "id": "-f3C9dZdYEvh"
   },
   "source": [
    "* Store test data in a DataFrame in order to make testing more organized."
   ]
  },
  {
   "cell_type": "code",
   "execution_count": 5,
   "metadata": {
    "id": "tpdpvqBVrrxb"
   },
   "outputs": [],
   "source": [
    "x8_test_df = create_dataframe(x8_TEST_DIR)"
   ]
  },
  {
   "cell_type": "code",
   "execution_count": 6,
   "metadata": {
    "colab": {
     "base_uri": "https://localhost:8080/",
     "height": 296
    },
    "executionInfo": {
     "elapsed": 665,
     "status": "ok",
     "timestamp": 1619912751860,
     "user": {
      "displayName": "Dominik Chodounský",
      "photoUrl": "",
      "userId": "03998523176855972652"
     },
     "user_tz": -120
    },
    "id": "9qyAB2EMZzzB",
    "outputId": "2d90b2e9-2afb-411b-8526-fca8a36cb814"
   },
   "outputs": [
    {
     "data": {
      "text/plain": [
       "<AxesSubplot:xlabel='label', ylabel='count'>"
      ]
     },
     "execution_count": 6,
     "metadata": {},
     "output_type": "execute_result"
    },
    {
     "data": {
      "image/png": "[encoded data removed]",
      "text/plain": [
       "<Figure size 432x288 with 1 Axes>"
      ]
     },
     "metadata": {
      "needs_background": "light"
     },
     "output_type": "display_data"
    }
   ],
   "source": [
    "sns.countplot(x8_test_df['label'], order=['negative', 'positive'])"
   ]
  },
  {
   "cell_type": "markdown",
   "metadata": {
    "id": "d1SVtYRJYh6L"
   },
   "source": [
    "* Dictionary containing information needed to load and evaluate the model."
   ]
  },
  {
   "cell_type": "code",
   "execution_count": 9,
   "metadata": {
    "id": "FDnAOTCBqQek"
   },
   "outputs": [],
   "source": [
    "cxr2 = {\n",
    "    'name': 'COVID-Net CXR-2',\n",
    "    'weightspath': os.path.join(ROOT_PATH, 'models/CNN/COVID-Net CXR-2'),\n",
    "    'metaname': 'model.meta',\n",
    "    'ckptname': 'model',\n",
    "    'in_tensorname': 'input_1:0',\n",
    "    'out_tensorname': 'norm_dense_2/Softmax:0',\n",
    "    'input_size': 480,\n",
    "    'top_percent': 0.08\n",
    "}"
   ]
  },
  {
   "cell_type": "markdown",
   "metadata": {
    "id": "OceibylMY5qp"
   },
   "source": [
    "* Evaluation loop\n",
    "    * Loads model with weights as a TensorFlow graph.\n",
    "    * Iterates over test data stored in the testing DataFrame and evaluates the accuracy of the predictions."
   ]
  },
  {
   "cell_type": "code",
   "execution_count": null,
   "metadata": {
    "colab": {
     "base_uri": "https://localhost:8080/"
    },
    "executionInfo": {
     "elapsed": 33648,
     "status": "ok",
     "timestamp": 1619912786382,
     "user": {
      "displayName": "Dominik Chodounský",
      "photoUrl": "",
      "userId": "03998523176855972652"
     },
     "user_tz": -120
    },
    "id": "E4ap2w1vt875",
    "outputId": "8fa1299e-7091-415c-c094-8dcd7ff572b2"
   },
   "outputs": [
    {
     "name": "stdout",
     "output_type": "stream",
     "text": [
      "INFO:tensorflow:Restoring parameters from /content/drive/MyDrive/ColabNotebooks/BI-BAP/models/CNN/COVID-Net CXR-2/model\n",
      "\n",
      "Accuracy of model COVID-Net CXR-2 on the test set was: 96.25%\n"
     ]
    }
   ],
   "source": [
    "y_true, y_pred_prob = evaluate_covidnet(cxr2, x8_test_df, x8_TEST_DIR, 'binary')"
   ]
  },
  {
   "cell_type": "markdown",
   "metadata": {
    "id": "a5n4ms5AiOEb"
   },
   "source": [
    "* *(Note: Accuracy on the COVIDx8B training set was measured to be 96.07 %)*"
   ]
  },
  {
   "cell_type": "code",
   "execution_count": null,
   "metadata": {
    "colab": {
     "base_uri": "https://localhost:8080/"
    },
    "executionInfo": {
     "elapsed": 32624,
     "status": "ok",
     "timestamp": 1619912786383,
     "user": {
      "displayName": "Dominik Chodounský",
      "photoUrl": "",
      "userId": "03998523176855972652"
     },
     "user_tz": -120
    },
    "id": "fEB03vZ6BTK7",
    "outputId": "9539385e-d540-44c6-ab47-80cb6acfaaa6"
   },
   "outputs": [
    {
     "data": {
      "text/plain": [
       "(0.955, 0.97, 0.9695431472081218)"
      ]
     },
     "execution_count": 11,
     "metadata": {
      "tags": []
     },
     "output_type": "execute_result"
    }
   ],
   "source": [
    "# calculation of other evaluation metrics\n",
    "y_pred = y_pred_prob.copy()\n",
    "y_pred[y_pred <= 0.5] = 0\n",
    "y_pred[y_pred > 0.5] = 1\n",
    "\n",
    "tn, fp, fn, tp = confusion_matrix(y_true, y_pred).ravel()\n",
    "\n",
    "# Specificity (TPR), Sensitivity (TNR), Positive Predictive Value (PPV)\n",
    "tp/(tp+fn), tn/(tn+fp), tp/(tp+fp)"
   ]
  },
  {
   "cell_type": "code",
   "execution_count": null,
   "metadata": {
    "colab": {
     "base_uri": "https://localhost:8080/",
     "height": 593
    },
    "executionInfo": {
     "elapsed": 32653,
     "status": "ok",
     "timestamp": 1619912786904,
     "user": {
      "displayName": "Dominik Chodounský",
      "photoUrl": "",
      "userId": "03998523176855972652"
     },
     "user_tz": -120
    },
    "id": "FU4cZGZgDTXZ",
    "outputId": "a689e526-883a-4fb8-dfe5-21de05cb1f0b"
   },
   "outputs": [
    {
     "data": {
      "image/png": "[encoded data removed]",
      "text/plain": [
       "<Figure size 432x288 with 2 Axes>"
      ]
     },
     "metadata": {
      "needs_background": "light",
      "tags": []
     },
     "output_type": "display_data"
    },
    {
     "data": {
      "image/png": "[encoded data removed]",
      "text/plain": [
       "<Figure size 432x288 with 1 Axes>"
      ]
     },
     "metadata": {
      "needs_background": "light",
      "tags": []
     },
     "output_type": "display_data"
    }
   ],
   "source": [
    "plot_eval(y_true, y_pred_prob, y_pred)"
   ]
  },
  {
   "cell_type": "markdown",
   "metadata": {
    "id": "8xPja9l8muyv"
   },
   "source": [
    "## Test COVID-Net CXR3-B on COVIDx3"
   ]
  },
  {
   "cell_type": "markdown",
   "metadata": {
    "id": "0ju-PJk0wdEX"
   },
   "source": [
    "* Store test data in a DataFrame in order to make testing more organized."
   ]
  },
  {
   "cell_type": "code",
   "execution_count": null,
   "metadata": {
    "id": "UjomghgEuSXC"
   },
   "outputs": [],
   "source": [
    "x3_test_df = create_dataframe(x3_TEST_DIR)"
   ]
  },
  {
   "cell_type": "code",
   "execution_count": null,
   "metadata": {
    "colab": {
     "base_uri": "https://localhost:8080/",
     "height": 294
    },
    "executionInfo": {
     "elapsed": 741,
     "status": "ok",
     "timestamp": 1619912801191,
     "user": {
      "displayName": "Dominik Chodounský",
      "photoUrl": "",
      "userId": "03998523176855972652"
     },
     "user_tz": -120
    },
    "id": "M5PRJUpwumPZ",
    "outputId": "b2da9e14-1090-43bc-9092-c5be9b1a693d"
   },
   "outputs": [
    {
     "data": {
      "text/plain": [
       "<matplotlib.axes._subplots.AxesSubplot at 0x7f5191f587d0>"
      ]
     },
     "execution_count": 14,
     "metadata": {
      "tags": []
     },
     "output_type": "execute_result"
    },
    {
     "data": {
      "image/png": "[encoded data removed]",
      "text/plain": [
       "<Figure size 432x288 with 1 Axes>"
      ]
     },
     "metadata": {
      "needs_background": "light",
      "tags": []
     },
     "output_type": "display_data"
    }
   ],
   "source": [
    "sns.countplot(x3_test_df['label'], order=['negative', 'positive'])"
   ]
  },
  {
   "cell_type": "markdown",
   "metadata": {
    "id": "Qw4xEgwXntzP"
   },
   "source": [
    "* Dictionary containing information needed to load and evaluate the model."
   ]
  },
  {
   "cell_type": "code",
   "execution_count": null,
   "metadata": {
    "id": "9lEp77m7nFqc"
   },
   "outputs": [],
   "source": [
    "cxr3B = {\n",
    "    'name': 'COVIDNet-CXR3-B',\n",
    "    'weightspath': os.path.join(ROOT_PATH, 'models/CNN/COVIDNet-CXR3-B'),\n",
    "    'metaname': 'model.meta',\n",
    "    'ckptname': 'model-1014',\n",
    "    'in_tensorname': 'input_1:0',\n",
    "    'out_tensorname': 'norm_dense_1/Softmax:0',\n",
    "    'input_size': 480,\n",
    "    'top_percent': 0.08\n",
    "}"
   ]
  },
  {
   "cell_type": "code",
   "execution_count": null,
   "metadata": {
    "colab": {
     "base_uri": "https://localhost:8080/"
    },
    "executionInfo": {
     "elapsed": 11166,
     "status": "ok",
     "timestamp": 1619912812382,
     "user": {
      "displayName": "Dominik Chodounský",
      "photoUrl": "",
      "userId": "03998523176855972652"
     },
     "user_tz": -120
    },
    "id": "OKcCnsEZnFnU",
    "outputId": "eb9e7ede-029c-450d-9b68-cd6af8e54b50"
   },
   "outputs": [
    {
     "name": "stdout",
     "output_type": "stream",
     "text": [
      "INFO:tensorflow:Restoring parameters from /content/drive/MyDrive/ColabNotebooks/BI-BAP/models/CNN/COVIDNet-CXR3-B/model-1014\n",
      "\n",
      "Accuracy of model COVIDNet-CXR3-B on the test set was: 96.17%\n"
     ]
    }
   ],
   "source": [
    "y_true, y_pred_prob = evaluate_covidnet(cxr3B, x3_test_df, x3_TEST_DIR, 'categorical')"
   ]
  },
  {
   "cell_type": "markdown",
   "metadata": {
    "id": "vWdFqPoLu4Lb"
   },
   "source": [
    "* *(Note: Accuracy on the COVIDx3 training set was measured to be 96.07 %)*"
   ]
  },
  {
   "cell_type": "code",
   "execution_count": null,
   "metadata": {
    "colab": {
     "base_uri": "https://localhost:8080/"
    },
    "executionInfo": {
     "elapsed": 10295,
     "status": "ok",
     "timestamp": 1619912812382,
     "user": {
      "displayName": "Dominik Chodounský",
      "photoUrl": "",
      "userId": "03998523176855972652"
     },
     "user_tz": -120
    },
    "id": "m9_fUp0YEb0J",
    "outputId": "0ccdc918-18e4-4c57-ee31-7e1947a3bba3"
   },
   "outputs": [
    {
     "data": {
      "text/plain": [
       "(0.9759036144578314, 0.95, 0.9418604651162791)"
      ]
     },
     "execution_count": 17,
     "metadata": {
      "tags": []
     },
     "output_type": "execute_result"
    }
   ],
   "source": [
    "# calculation of other evaluation metrics\n",
    "y_pred = np.asarray(y_pred_prob.copy())\n",
    "y_pred[y_pred <= 0.5] = 0\n",
    "y_pred[y_pred > 0.5] = 1\n",
    "\n",
    "tn, fp, fn, tp = confusion_matrix(y_true, y_pred).ravel()\n",
    "\n",
    "# Specificity (TPR), Sensitivity (TNR), Positive Predictive Value (PPV)\n",
    "tp/(tp+fn), tn/(tn+fp), tp/(tp+fp)"
   ]
  },
  {
   "cell_type": "code",
   "execution_count": null,
   "metadata": {
    "colab": {
     "base_uri": "https://localhost:8080/",
     "height": 593
    },
    "executionInfo": {
     "elapsed": 10598,
     "status": "ok",
     "timestamp": 1619912812931,
     "user": {
      "displayName": "Dominik Chodounský",
      "photoUrl": "",
      "userId": "03998523176855972652"
     },
     "user_tz": -120
    },
    "id": "BC0l64KVEwQf",
    "outputId": "4dab6aa9-18aa-449b-f51e-634fec2c5f2a"
   },
   "outputs": [
    {
     "data": {
      "image/png": "[encoded data removed]",
      "text/plain": [
       "<Figure size 432x288 with 2 Axes>"
      ]
     },
     "metadata": {
      "needs_background": "light",
      "tags": []
     },
     "output_type": "display_data"
    },
    {
     "data": {
      "image/png": "[encoded data removed]",
      "text/plain": [
       "<Figure size 432x288 with 1 Axes>"
      ]
     },
     "metadata": {
      "needs_background": "light",
      "tags": []
     },
     "output_type": "display_data"
    }
   ],
   "source": [
    "plot_eval(y_true, y_pred_prob, y_pred)"
   ]
  },
  {
   "cell_type": "markdown",
   "metadata": {
    "id": "ckuP-sYD1oEn"
   },
   "source": [
    "# Test new COVID-Net CXR-2 on the old COVIDx3 dataset"
   ]
  },
  {
   "cell_type": "code",
   "execution_count": null,
   "metadata": {
    "colab": {
     "base_uri": "https://localhost:8080/"
    },
    "executionInfo": {
     "elapsed": 19141,
     "status": "ok",
     "timestamp": 1619912822160,
     "user": {
      "displayName": "Dominik Chodounský",
      "photoUrl": "",
      "userId": "03998523176855972652"
     },
     "user_tz": -120
    },
    "id": "2NSgAXRv1t8v",
    "outputId": "94f8b9ec-7f01-47b5-948a-d86811ce9bcb"
   },
   "outputs": [
    {
     "name": "stdout",
     "output_type": "stream",
     "text": [
      "INFO:tensorflow:Restoring parameters from /content/drive/MyDrive/ColabNotebooks/BI-BAP/models/CNN/COVID-Net CXR-2/model\n",
      "\n",
      "Accuracy of model COVID-Net CXR-2 on the test set was: 93.99%\n"
     ]
    }
   ],
   "source": [
    "y_true, y_pred_prob = evaluate_covidnet(cxr2, x3_test_df, x3_TEST_DIR, 'binary')"
   ]
  },
  {
   "cell_type": "markdown",
   "metadata": {
    "id": "xmEequ521whz"
   },
   "source": [
    "* *(Note: Accuracy on the COVIDx3 training set was measured to be 99.51 %)*"
   ]
  },
  {
   "cell_type": "code",
   "execution_count": null,
   "metadata": {
    "colab": {
     "base_uri": "https://localhost:8080/"
    },
    "executionInfo": {
     "elapsed": 18443,
     "status": "ok",
     "timestamp": 1619912822161,
     "user": {
      "displayName": "Dominik Chodounský",
      "photoUrl": "",
      "userId": "03998523176855972652"
     },
     "user_tz": -120
    },
    "id": "2Xgd4pdhFr6m",
    "outputId": "275611af-f63a-43fb-f96e-dc82f48651e7"
   },
   "outputs": [
    {
     "data": {
      "text/plain": [
       "(0.8795180722891566, 0.99, 0.9864864864864865)"
      ]
     },
     "execution_count": 20,
     "metadata": {
      "tags": []
     },
     "output_type": "execute_result"
    }
   ],
   "source": [
    "# calculation of other evaluation metrics\n",
    "y_pred = np.asarray(y_pred_prob.copy())\n",
    "y_pred[y_pred <= 0.5] = 0\n",
    "y_pred[y_pred > 0.5] = 1\n",
    "\n",
    "tn, fp, fn, tp = confusion_matrix(y_true, y_pred).ravel()\n",
    "\n",
    "# Specificity (TPR), Sensitivity (TNR), Positive Predictive Value (PPV)\n",
    "tp/(tp+fn), tn/(tn+fp), tp/(tp+fp)"
   ]
  },
  {
   "cell_type": "code",
   "execution_count": null,
   "metadata": {
    "colab": {
     "base_uri": "https://localhost:8080/",
     "height": 593
    },
    "executionInfo": {
     "elapsed": 18588,
     "status": "ok",
     "timestamp": 1619912822712,
     "user": {
      "displayName": "Dominik Chodounský",
      "photoUrl": "",
      "userId": "03998523176855972652"
     },
     "user_tz": -120
    },
    "id": "YiZmTi2gF84u",
    "outputId": "e9941a88-0a42-47dc-e603-788411b279cc"
   },
   "outputs": [
    {
     "data": {
      "image/png": "[encoded data removed]",
      "text/plain": [
       "<Figure size 432x288 with 2 Axes>"
      ]
     },
     "metadata": {
      "needs_background": "light",
      "tags": []
     },
     "output_type": "display_data"
    },
    {
     "data": {
      "image/png": "[encoded data removed]",
      "text/plain": [
       "<Figure size 432x288 with 1 Axes>"
      ]
     },
     "metadata": {
      "needs_background": "light",
      "tags": []
     },
     "output_type": "display_data"
    }
   ],
   "source": [
    "plot_eval(y_true, y_pred_prob, y_pred)"
   ]
  },
  {
   "cell_type": "markdown",
   "metadata": {
    "id": "qGVadNSmbSW3"
   },
   "source": [
    "# Test old COVID-Net CXR3-B on the new COVIDx8B dataset"
   ]
  },
  {
   "cell_type": "code",
   "execution_count": null,
   "metadata": {
    "colab": {
     "base_uri": "https://localhost:8080/"
    },
    "executionInfo": {
     "elapsed": 48319,
     "status": "ok",
     "timestamp": 1619912854332,
     "user": {
      "displayName": "Dominik Chodounský",
      "photoUrl": "",
      "userId": "03998523176855972652"
     },
     "user_tz": -120
    },
    "id": "YFPLtkdGbeAP",
    "outputId": "b1dc9c23-0c1f-4b03-d4ed-3dbe835bf135"
   },
   "outputs": [
    {
     "name": "stdout",
     "output_type": "stream",
     "text": [
      "INFO:tensorflow:Restoring parameters from /content/drive/MyDrive/ColabNotebooks/BI-BAP/models/CNN/COVIDNet-CXR3-B/model-1014\n",
      "\n",
      "Accuracy of model COVIDNet-CXR3-B on the test set was: 71.50%\n"
     ]
    }
   ],
   "source": [
    "y_true, y_pred_prob = evaluate_covidnet(cxr3B, x8_test_df, x8_TEST_DIR, 'categorical')"
   ]
  },
  {
   "cell_type": "markdown",
   "metadata": {
    "id": "7lmdaKYbjSMg"
   },
   "source": [
    "* *(Note: Accuracy on the COVIDx8B training set was measured to be 61.44 %)*"
   ]
  },
  {
   "cell_type": "code",
   "execution_count": null,
   "metadata": {
    "colab": {
     "base_uri": "https://localhost:8080/"
    },
    "executionInfo": {
     "elapsed": 47959,
     "status": "ok",
     "timestamp": 1619912854332,
     "user": {
      "displayName": "Dominik Chodounský",
      "photoUrl": "",
      "userId": "03998523176855972652"
     },
     "user_tz": -120
    },
    "id": "6XvzBXfwGa-2",
    "outputId": "be79f0be-f7de-43d3-9ad6-ea034e9953e5"
   },
   "outputs": [
    {
     "data": {
      "text/plain": [
       "(0.93, 0.5, 0.6503496503496503)"
      ]
     },
     "execution_count": 23,
     "metadata": {
      "tags": []
     },
     "output_type": "execute_result"
    }
   ],
   "source": [
    "# calculation of other evaluation metrics\n",
    "y_pred = np.asarray(y_pred_prob.copy())\n",
    "y_pred[y_pred <= 0.5] = 0\n",
    "y_pred[y_pred > 0.5] = 1\n",
    "\n",
    "tn, fp, fn, tp = confusion_matrix(y_true, y_pred).ravel()\n",
    "\n",
    "# Specificity (TPR), Sensitivity (TNR), Positive Predictive Value (PPV)\n",
    "tp/(tp+fn), tn/(tn+fp), tp/(tp+fp)"
   ]
  },
  {
   "cell_type": "code",
   "execution_count": null,
   "metadata": {
    "colab": {
     "base_uri": "https://localhost:8080/",
     "height": 593
    },
    "executionInfo": {
     "elapsed": 47808,
     "status": "ok",
     "timestamp": 1619912854829,
     "user": {
      "displayName": "Dominik Chodounský",
      "photoUrl": "",
      "userId": "03998523176855972652"
     },
     "user_tz": -120
    },
    "id": "0r7Bjl8UGeDG",
    "outputId": "15668f6c-c772-4ab4-afa2-d662f799f9ab"
   },
   "outputs": [
    {
     "data": {
      "image/png": "[encoded data removed]",
      "text/plain": [
       "<Figure size 432x288 with 2 Axes>"
      ]
     },
     "metadata": {
      "needs_background": "light",
      "tags": []
     },
     "output_type": "display_data"
    },
    {
     "data": {
      "image/png": "[encoded data removed]",
      "text/plain": [
       "<Figure size 432x288 with 1 Axes>"
      ]
     },
     "metadata": {
      "needs_background": "light",
      "tags": []
     },
     "output_type": "display_data"
    }
   ],
   "source": [
    "plot_eval(y_true, y_pred_prob, y_pred)"
   ]
  },
  {
   "cell_type": "markdown",
   "metadata": {
    "id": "oXCcNorXlcD-"
   },
   "source": [
    "## Calculate intersection of the two test sets\n",
    "* Since there is a very large discrepancy between the model's performance on the two test sets, it may be interesting to analyze the size of their intersection."
   ]
  },
  {
   "cell_type": "code",
   "execution_count": 8,
   "metadata": {
    "id": "FxTfCN8Llbl2"
   },
   "outputs": [],
   "source": [
    "x3_df = create_dataframe(x3_TEST_DIR)"
   ]
  },
  {
   "cell_type": "code",
   "execution_count": 9,
   "metadata": {
    "colab": {
     "base_uri": "https://localhost:8080/"
    },
    "executionInfo": {
     "elapsed": 47038,
     "status": "ok",
     "timestamp": 1619912855162,
     "user": {
      "displayName": "Dominik Chodounský",
      "photoUrl": "",
      "userId": "03998523176855972652"
     },
     "user_tz": -120
    },
    "id": "FC34waAycFCG",
    "outputId": "26605b05-0951-48be-e0de-86bd4076e7bd"
   },
   "outputs": [
    {
     "name": "stdout",
     "output_type": "stream",
     "text": [
      "Out of 183 images in the COVIDx3 test set, 100 of them are also in the COVIDx8B test set. The intersection is around 54.64%\n"
     ]
    }
   ],
   "source": [
    "count = 0\n",
    "intersect = 0\n",
    "for index, row in x3_df.iterrows():\n",
    "    if os.path.exists(os.path.join(os.path.join(ROOT_PATH, 'data/COVIDx8B/test'), row['path'])):\n",
    "        intersect += 1\n",
    "    count += 1\n",
    "\n",
    "print(f'Out of {count} images in the COVIDx3 test set, {intersect} of them are also in the COVIDx8B test set. The intersection is around {intersect/count:.2%}')"
   ]
  },
  {
   "cell_type": "markdown",
   "metadata": {
    "id": "6CrzaNZKneTM"
   },
   "source": [
    "\n",
    "\n",
    "---\n",
    "\n"
   ]
  },
  {
   "cell_type": "markdown",
   "metadata": {
    "id": "sUl3tqILe5pB"
   },
   "source": [
    "# COVID-Net Evaluation Results"
   ]
  },
  {
   "cell_type": "markdown",
   "metadata": {
    "id": "DjuziV7-e6Pw"
   },
   "source": [
    "| Model architecture | Dataset version | Train accuracy | Test accuracy | COVID-19 Sensitivity | COVID-19 Specificity | AUC | PPV |\n",
    "|-------|-------|-------|-------|-------|-------|-------|-------|\n",
    "|COVID-Net CXR2|COVIDx8B| 0.9607|0.9625|0.955|0.97|0.994|0.9695|\n",
    "|COVID-Net CXR2|COVIDx3| 0.9951|0.9399|0.8795|0.99|0.991|0.9865|\n",
    "|COVID-Net CXR3-B|COVIDx8B|0.6144|0.7150|0.93|0.50|0.0.826|0.6503|\n",
    "|COVID-Net CXR3-B|COVIDx3|0.9607|0.9617|0.9759|0.95|0.993|0.9419|\n",
    "\n",
    "\n"
   ]
  }
 ],
 "metadata": {
  "accelerator": "GPU",
  "colab": {
   "authorship_tag": "ABX9TyNKtmTNd4LpINX6uEWnfnRH",
   "collapsed_sections": [],
   "name": "COVID-Net_evaluation.ipynb",
   "provenance": [],
   "toc_visible": true
  },
  "kernelspec": {
   "display_name": "Python 3",
   "language": "python",
   "name": "python3"
  },
  "language_info": {
   "codemirror_mode": {
    "name": "ipython",
    "version": 3
   },
   "file_extension": ".py",
   "mimetype": "text/x-python",
   "name": "python",
   "nbconvert_exporter": "python",
   "pygments_lexer": "ipython3",
   "version": "3.8.8"
  }
 },
 "nbformat": 4,
 "nbformat_minor": 1
}
