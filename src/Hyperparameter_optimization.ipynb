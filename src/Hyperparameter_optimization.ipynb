{
 "cells": [
  {
   "cell_type": "markdown",
   "metadata": {
    "id": "CiFOBAlTfZNs"
   },
   "source": [
    "# BaseNet Prototype Hyperparameter Optimization\n",
    "\n",
    "* The prupose of this notebook is to create an environment for optimizing the BaseNet prototype's architecture and hyperparameters with the Keras-tuner library.\n",
    "* The goal of the optimization algorithm is to maximize the performance of the BaseNet configuration on the COVIDx training data."
   ]
  },
  {
   "cell_type": "markdown",
   "metadata": {
    "id": "d-OmN2IIY_sO"
   },
   "source": [
    "*Author: Dominik Chodounský, FIT CTU in Prague (Last edit: 05/11/21)*"
   ]
  },
  {
   "cell_type": "markdown",
   "metadata": {
    "id": "lKNgnuXhkwH2"
   },
   "source": [
    "## Library Imports"
   ]
  },
  {
   "cell_type": "code",
   "execution_count": 1,
   "metadata": {
    "id": "xGNf-7XRj0tq"
   },
   "outputs": [],
   "source": [
    "import warnings\n",
    "warnings.filterwarnings(\"ignore\")\n",
    "import tensorflow as tf\n",
    "from tensorflow.keras import callbacks, layers, Model, metrics, losses\n",
    "from tensorflow.keras.layers import Dense, Input, Layer, Flatten, Activation, GlobalAveragePooling2D, Dropout, ZeroPadding2D, Conv2D, DepthwiseConv2D, concatenate, MaxPool2D, Reshape, Conv2DTranspose, LeakyReLU, UpSampling2D, BatchNormalization, add\n",
    "from tensorflow.keras.optimizers import SGD, Nadam, Adam\n",
    "from tensorflow.python.client import device_lib\n",
    "from tensorflow.keras.preprocessing.image import ImageDataGenerator\n",
    "import cv2\n",
    "from matplotlib.colors import Normalize\n",
    "import matplotlib.pyplot as plt\n",
    "import time\n",
    "import random\n",
    "import numpy as np\n",
    "import os\n",
    "import sys\n",
    "\n",
    "import kerastuner as kt"
   ]
  },
  {
   "cell_type": "markdown",
   "metadata": {
    "id": "19_rnU8Nk-Af"
   },
   "source": [
    "## Constants and Settings\n",
    "* Set variable *ROOT_DIR* to contain path to root *BI-BAP* folder.\n",
    "* Set variables *TRAIN_DIR* and *TEST_DIR* to contain paths to training and test data folders (default values are meant for training on the COVIDx8B dataset).\n",
    "* Set variable *SAVE_DIR* to contain the path to *BI-BAP/models/CNN/hyperparameter-optimization* folder, where the optimization algorithm saves its progress.\n",
    "* You may change the default parameters for the optimization as well, their description is provided in the following cell."
   ]
  },
  {
   "cell_type": "code",
   "execution_count": 2,
   "metadata": {
    "id": "d7jTdP_Zk-OQ"
   },
   "outputs": [],
   "source": [
    "ROOT_PATH = '../'\n",
    "TRAIN_DIR = os.path.join(ROOT_PATH, 'data/COVIDx8B/train')\n",
    "TEST_DIR = os.path.join(ROOT_PATH, 'data/COVIDx8B/test')\n",
    "SAVE_DIR = os.path.join(ROOT_PATH, 'models/CNN/hyperparameter-optimization')\n",
    "\n",
    "IMG_SIZE = 224   # target width and height of images that they will be resized to\n",
    "BATCH_SIZE = 16  # size of generated batches of images\n",
    "CHANNEL_CNT = 3  # number of channels in images (3 = RGB, 1 = Grayscale)\n",
    "EPOCH_CNT = 60   # number of epochs available to the tuner during optimization\n",
    "VAL_SPLIT = 0.2  # training/validation split\n",
    "RAND_SEED = 111  # random seed for reproducibility\n",
    "\n",
    "# ------------------------------------------------------------------------------------------------------------------------#\n",
    "np.random.seed(RAND_SEED)\n",
    "tf.random.set_seed(RAND_SEED)\n",
    "random.seed(RAND_SEED)\n",
    "os.environ['PYTHONHASHSEED'] = str(RAND_SEED)\n",
    "\n",
    "warnings.filterwarnings(\"ignore\")"
   ]
  },
  {
   "cell_type": "markdown",
   "metadata": {
    "id": "hPrK7wpalDPX"
   },
   "source": [
    "## File Imports\n"
   ]
  },
  {
   "cell_type": "code",
   "execution_count": 3,
   "metadata": {
    "id": "Rqv74f9hlDiX"
   },
   "outputs": [],
   "source": [
    "from utils.utils import get_generators, get_class_weights"
   ]
  },
  {
   "cell_type": "markdown",
   "metadata": {
    "id": "svVI8-XLlGZv"
   },
   "source": [
    "## Preprocessor definition"
   ]
  },
  {
   "cell_type": "code",
   "execution_count": 4,
   "metadata": {
    "id": "NvaLpnzhlHlX"
   },
   "outputs": [],
   "source": [
    "# Default preprocessor, only performs resize and scaling\n",
    "def preprocessor(img):\n",
    "    new_img = cv2.resize(img.astype('uint8'), (IMG_SIZE, IMG_SIZE))\n",
    "    return new_img / 255"
   ]
  },
  {
   "cell_type": "markdown",
   "metadata": {
    "id": "pXVsHK1SlJuu"
   },
   "source": [
    "## Image Data Generators\n",
    "* Create generators for training and validation set."
   ]
  },
  {
   "cell_type": "code",
   "execution_count": 5,
   "metadata": {
    "colab": {
     "base_uri": "https://localhost:8080/"
    },
    "executionInfo": {
     "elapsed": 554762,
     "status": "ok",
     "timestamp": 1615892973340,
     "user": {
      "displayName": "Dominik Chodounský",
      "photoUrl": "",
      "userId": "03998523176855972652"
     },
     "user_tz": -60
    },
    "id": "AXS0f10mlKCH",
    "outputId": "a5a77ce7-2d6f-47b3-b436-b97d977cfd52"
   },
   "outputs": [
    {
     "name": "stdout",
     "output_type": "stream",
     "text": [
      "Found 12763 images belonging to 2 classes.\n",
      "Found 3189 images belonging to 2 classes.\n",
      "Found 400 images belonging to 2 classes.\n"
     ]
    }
   ],
   "source": [
    "datagen = ImageDataGenerator(\n",
    "            validation_split=VAL_SPLIT,\n",
    "            preprocessing_function=preprocessor\n",
    "          )\n",
    "    \n",
    "train_gen, valid_gen, _ = get_generators(datagen, TRAIN_DIR, TEST_DIR, IMG_SIZE, BATCH_SIZE, CHANNEL_CNT, True, RAND_SEED)"
   ]
  },
  {
   "cell_type": "code",
   "execution_count": 6,
   "metadata": {
    "colab": {
     "base_uri": "https://localhost:8080/"
    },
    "executionInfo": {
     "elapsed": 554759,
     "status": "ok",
     "timestamp": 1615892973341,
     "user": {
      "displayName": "Dominik Chodounský",
      "photoUrl": "",
      "userId": "03998523176855972652"
     },
     "user_tz": -60
    },
    "id": "Vz6lb_9UlM63",
    "outputId": "fe37bb27-d3a9-4761-de07-ecadf6da0394"
   },
   "outputs": [
    {
     "data": {
      "text/plain": [
       "{'negative': 0, 'positive': 1}"
      ]
     },
     "execution_count": 6,
     "metadata": {},
     "output_type": "execute_result"
    }
   ],
   "source": [
    "train_gen.class_indices"
   ]
  },
  {
   "cell_type": "markdown",
   "metadata": {
    "id": "y8_qGJPDkBmf"
   },
   "source": [
    "## Hyperparameter Optimization\n",
    "\n",
    "* Create function to build the BaseNet architecture with specified hyperparameters that will then be optimized by the tuner.\n",
    "* The HPs are: dropout rate, activation function, usage of a residual connection, and width of dense layer in the classifier."
   ]
  },
  {
   "cell_type": "code",
   "execution_count": null,
   "metadata": {
    "id": "htOwAOVxlSff"
   },
   "outputs": [],
   "source": [
    "def basenet_builder(hp):\n",
    "    dropout_hp = hp.Choice('dropout', values=[0.2, 0.3, 0.5])\n",
    "    \n",
    "    activation_functions = [tf.keras.activations.relu,\n",
    "                            tf.keras.layers.LeakyReLU(alpha=0.1), \n",
    "                            tf.keras.activations.tanh]\n",
    "    \n",
    "    activation_id = hp.Choice('activation_function', values=[0, 1, 2])\n",
    "    activation_hp = activation_functions[activation_id]\n",
    "\n",
    "    input_layer = Input(shape=(IMG_SIZE, IMG_SIZE, CHANNEL_CNT), name='input')\n",
    "                \n",
    "    x1 = Conv2D(filters=64, kernel_size=5, strides=1, activation=activation_hp, padding=\"same\")(input_layer)\n",
    "    x1 = Conv2D(filters=64, kernel_size=5, strides=1, activation=activation_hp, padding=\"same\")(x1)\n",
    "    x1 = MaxPool2D(2, strides=2)(x1)\n",
    "    x1 = Dropout(dropout_hp)(x1)\n",
    "        \n",
    "    x2 = Conv2D(filters=128, kernel_size=3, strides=1, activation=activation_hp, padding=\"same\")(x1)\n",
    "    x2 = Conv2D(filters=128, kernel_size=3, strides=1, activation=activation_hp, padding=\"same\")(x2)\n",
    "    x2 = Conv2D(filters=128, kernel_size=3, strides=1, activation=activation_hp, padding=\"same\")(x2)\n",
    "    x2 = MaxPool2D(2, strides=2)(x2)\n",
    "    x2 = Dropout(dropout_hp)(x2)\n",
    "        \n",
    "    residual = Conv2D(filters=128, kernel_size=5, strides=1, activation=activation_hp, padding=\"same\")(x2)\n",
    "    residual = MaxPool2D(2, strides=8)(residual)\n",
    "        \n",
    "    x3 = Conv2D(filters=256, kernel_size=5, strides=1, activation=activation_hp, padding=\"same\")(x2)\n",
    "    x3 = Conv2D(filters=256, kernel_size=5, strides=1, activation=activation_hp, padding=\"same\")(x3)\n",
    "    x3 = MaxPool2D(2, strides=2)(x3)\n",
    "    x3 = Dropout(dropout_hp)(x3)\n",
    "        \n",
    "    x4 = Conv2D(filters=256, kernel_size=5, strides=1, activation=activation_hp, padding=\"same\")(x3)\n",
    "    x4 = Conv2D(filters=256, kernel_size=5, strides=1, activation=activation_hp, padding=\"same\")(x4)\n",
    "    x4 = MaxPool2D(2, strides=2)(x4)\n",
    "    x4 = Dropout(dropout_hp)(x4)\n",
    "        \n",
    "    x5 = Conv2D(filters=128, kernel_size=3, strides=1, activation=activation_hp, padding=\"same\")(x4)\n",
    "    x5 = Conv2D(filters=128, kernel_size=3, strides=1, activation=activation_hp, padding=\"same\")(x5)\n",
    "    x5 = Conv2D(filters=128, kernel_size=3, strides=1, activation=activation_hp, padding=\"same\")(x5)\n",
    "    x5 = MaxPool2D(2, strides=2)(x5)\n",
    "    x5 = Dropout(dropout_hp)(x5)\n",
    "        \n",
    "    add_residual = hp.Boolean('add_residual')\n",
    "    if add_residual:\n",
    "        x6 = Conv2D(filters=128, kernel_size=5, strides=1, activation=activation_hp, padding=\"same\", name='residual')(add([residual, x5]))\n",
    "    else:\n",
    "        x6 = Conv2D(filters=128, kernel_size=5, strides=1, activation=activation_hp, padding=\"same\", name='residual')(x5)\n",
    "\n",
    "    x6 = Conv2D(filters=128, kernel_size=5, strides=1, activation=activation_hp, padding=\"same\")(x6)\n",
    "    x6 = Conv2D(filters=128, kernel_size=5, strides=1, activation=activation_hp, padding=\"same\")(x6)\n",
    "    x6 = Dropout(dropout_hp)(x6)\n",
    "        \n",
    "    x = GlobalAveragePooling2D(name='GAP')(x6)        \n",
    "    x = Dense(hp.Choice('dense_neurons', values=[128, 256, 512]), activation=activation_hp)(x)\n",
    "    x = Dropout(dropout_hp)(x)\n",
    "\n",
    "    output = Dense(1, activation='sigmoid')(x)\n",
    "\n",
    "    model = Model(inputs=[input_layer], outputs=[output])\n",
    "    model.compile(optimizer=Adam(learning_rate=0.0001),\n",
    "                  metrics=[metrics.BinaryAccuracy()], \n",
    "                  loss=losses.BinaryCrossentropy()\n",
    "                 )\n",
    "    return model"
   ]
  },
  {
   "cell_type": "markdown",
   "metadata": {
    "id": "fJE0jig6kdfl"
   },
   "source": [
    "* Define a tuner to perform the optimization. \n",
    "* The pre-selected algorithm is the Hyperband, but the Keras-tuner library also allows for using Grid search, Random search,..."
   ]
  },
  {
   "cell_type": "code",
   "execution_count": null,
   "metadata": {
    "colab": {
     "base_uri": "https://localhost:8080/"
    },
    "executionInfo": {
     "elapsed": 571910,
     "status": "ok",
     "timestamp": 1615892990501,
     "user": {
      "displayName": "Dominik Chodounský",
      "photoUrl": "",
      "userId": "03998523176855972652"
     },
     "user_tz": -60
    },
    "id": "zDlx9Hh8lUNP",
    "outputId": "0fcfd710-f943-4f21-849b-00c052884642"
   },
   "outputs": [
    {
     "name": "stdout",
     "output_type": "stream",
     "text": [
      "INFO:tensorflow:Reloading Oracle from existing project ../models/CNN/hyperparameter-optimization\\basenet_hpo\\oracle.json\n"
     ]
    }
   ],
   "source": [
    "tuner = kt.Hyperband(basenet_builder,\n",
    "                    objective='val_binary_accuracy',\n",
    "                    max_epochs=7, # max number of epochs to train one model\n",
    "                    executions_per_trial=1, # number of trials per one HP configuration\n",
    "                    directory=SAVE_DIR,\n",
    "                    project_name='basenet_hpo',\n",
    "                    seed=RAND_SEED\n",
    ")"
   ]
  },
  {
   "cell_type": "markdown",
   "metadata": {
    "id": "TiPKEXVCgdJJ"
   },
   "source": [
    "* Callbacks that implement Early Stopping regularization and regular checkpointing of models with highest validataion accuracy."
   ]
  },
  {
   "cell_type": "code",
   "execution_count": null,
   "metadata": {
    "id": "5PsuEJ7-lVGm"
   },
   "outputs": [],
   "source": [
    "# model description which determines the name of the model when it is saved\n",
    "model_description = {\n",
    "    'name': 'basenet',\n",
    "    'preprocessor': datagen.preprocessing_function.__name__,\n",
    "    'optimizer': 'Adam_0.0001',\n",
    "    'weights': 'random',\n",
    "    'notes': '' # start with '-'\n",
    "}\n",
    "model_save = os.path.join(SAVE_DIR, model_description['name'] + '-' + model_description['preprocessor'] + '-' \\\n",
    "                          + model_description['optimizer'] + '-' + model_description['weights'] + model_description['notes'] + '.h5')\n",
    "\n",
    "# callback for early stopping regularization\n",
    "early_stopping = callbacks.EarlyStopping(\n",
    "    monitor='val_binary_accuracy',\n",
    "    min_delta=0,\n",
    "    patience=5,\n",
    "    verbose=1,\n",
    "    mode='max',\n",
    "    restore_best_weights=True\n",
    ")\n",
    "\n",
    "# callback for continuous checkpointing of best model configuration\n",
    "checkpointing = callbacks.ModelCheckpoint(\n",
    "    filepath=model_save,\n",
    "    monitor='val_binary_accuracy',\n",
    "    verbose=1,\n",
    "    save_best_only=True,\n",
    "    mode='max'\n",
    ")"
   ]
  },
  {
   "cell_type": "markdown",
   "metadata": {
    "id": "E0vHyPIGlIJ1"
   },
   "source": [
    "* Run the search for optimal hyperparameters."
   ]
  },
  {
   "cell_type": "code",
   "execution_count": null,
   "metadata": {
    "colab": {
     "base_uri": "https://localhost:8080/"
    },
    "executionInfo": {
     "elapsed": 12027470,
     "status": "ok",
     "timestamp": 1615904446067,
     "user": {
      "displayName": "Dominik Chodounský",
      "photoUrl": "",
      "userId": "03998523176855972652"
     },
     "user_tz": -60
    },
    "id": "uOw4eCyXlWJe",
    "outputId": "5240bfe7-585b-4b7f-f405-6b75cc20c2f5"
   },
   "outputs": [
    {
     "name": "stdout",
     "output_type": "stream",
     "text": [
      "Epoch 1/3\n",
      "WARNING:tensorflow:Callbacks method `on_train_batch_end` is slow compared to the batch time (batch time: 0.2266s vs `on_train_batch_end` time: 0.3710s). Check your callbacks.\n",
      "\n",
      "Epoch 00001: val_binary_accuracy improved from -inf to 0.13515, saving model to ../models/CNN/hyperparameter-optimization\\basenet-preprocessor-Adam_0.0001-random.h5\n",
      "798/798 - 687s - loss: 0.6939 - binary_accuracy: 0.6855 - val_loss: 0.6973 - val_binary_accuracy: 0.1352\n",
      "Epoch 2/3\n",
      "\n",
      "Epoch 00002: val_binary_accuracy improved from 0.13515 to 0.79492, saving model to ../models/CNN/hyperparameter-optimization\\basenet-preprocessor-Adam_0.0001-random.h5\n",
      "798/798 - 783s - loss: 0.7001 - binary_accuracy: 0.4233 - val_loss: 0.6643 - val_binary_accuracy: 0.7949\n",
      "Epoch 3/3\n",
      "\n",
      "Epoch 00003: val_binary_accuracy did not improve from 0.79492\n",
      "798/798 - 692s - loss: 0.6449 - binary_accuracy: 0.4874 - val_loss: 0.7274 - val_binary_accuracy: 0.4904\n"
     ]
    },
    {
     "data": {
      "text/html": [
       "<span style=\"color:#4527A0\"><h1 style=\"font-size:18px\">Trial complete</h1></span>"
      ],
      "text/plain": [
       "<IPython.core.display.HTML object>"
      ]
     },
     "metadata": {
      "tags": []
     },
     "output_type": "display_data"
    },
    {
     "data": {
      "text/html": [
       "<span style=\"color:#4527A0\"><h1 style=\"font-size:18px\">Trial summary</h1></span>"
      ],
      "text/plain": [
       "<IPython.core.display.HTML object>"
      ]
     },
     "metadata": {
      "tags": []
     },
     "output_type": "display_data"
    },
    {
     "data": {
      "text/html": [
       "<span style=\"color:cyan\"> |-Trial ID: ac29952650a15ce3fb0cb1488689e601</span>"
      ],
      "text/plain": [
       "<IPython.core.display.HTML object>"
      ]
     },
     "metadata": {
      "tags": []
     },
     "output_type": "display_data"
    },
    {
     "data": {
      "text/html": [
       "<span style=\"color:cyan\"> |-Score: 0.794920027256012</span>"
      ],
      "text/plain": [
       "<IPython.core.display.HTML object>"
      ]
     },
     "metadata": {
      "tags": []
     },
     "output_type": "display_data"
    },
    {
     "data": {
      "text/html": [
       "<span style=\"color:cyan\"> |-Best step: 0</span>"
      ],
      "text/plain": [
       "<IPython.core.display.HTML object>"
      ]
     },
     "metadata": {
      "tags": []
     },
     "output_type": "display_data"
    },
    {
     "data": {
      "text/html": [
       "<span style=\"color:#7E57C2\"><h2 style=\"font-size:16px\">Hyperparameters:</h2></span>"
      ],
      "text/plain": [
       "<IPython.core.display.HTML object>"
      ]
     },
     "metadata": {
      "tags": []
     },
     "output_type": "display_data"
    },
    {
     "data": {
      "text/html": [
       "<span style=\"color:cyan\"> |-activation_function: 1</span>"
      ],
      "text/plain": [
       "<IPython.core.display.HTML object>"
      ]
     },
     "metadata": {
      "tags": []
     },
     "output_type": "display_data"
    },
    {
     "data": {
      "text/html": [
       "<span style=\"color:blue\"> |-add_residual: True</span>"
      ],
      "text/plain": [
       "<IPython.core.display.HTML object>"
      ]
     },
     "metadata": {
      "tags": []
     },
     "output_type": "display_data"
    },
    {
     "data": {
      "text/html": [
       "<span style=\"color:cyan\"> |-dense_neurons: 128</span>"
      ],
      "text/plain": [
       "<IPython.core.display.HTML object>"
      ]
     },
     "metadata": {
      "tags": []
     },
     "output_type": "display_data"
    },
    {
     "data": {
      "text/html": [
       "<span style=\"color:blue\"> |-dropout: 0.2</span>"
      ],
      "text/plain": [
       "<IPython.core.display.HTML object>"
      ]
     },
     "metadata": {
      "tags": []
     },
     "output_type": "display_data"
    },
    {
     "data": {
      "text/html": [
       "<span style=\"color:cyan\"> |-tuner/bracket: 1</span>"
      ],
      "text/plain": [
       "<IPython.core.display.HTML object>"
      ]
     },
     "metadata": {
      "tags": []
     },
     "output_type": "display_data"
    },
    {
     "data": {
      "text/html": [
       "<span style=\"color:blue\"> |-tuner/epochs: 3</span>"
      ],
      "text/plain": [
       "<IPython.core.display.HTML object>"
      ]
     },
     "metadata": {
      "tags": []
     },
     "output_type": "display_data"
    },
    {
     "data": {
      "text/html": [
       "<span style=\"color:cyan\"> |-tuner/initial_epoch: 0</span>"
      ],
      "text/plain": [
       "<IPython.core.display.HTML object>"
      ]
     },
     "metadata": {
      "tags": []
     },
     "output_type": "display_data"
    },
    {
     "data": {
      "text/html": [
       "<span style=\"color:blue\"> |-tuner/round: 0</span>"
      ],
      "text/plain": [
       "<IPython.core.display.HTML object>"
      ]
     },
     "metadata": {
      "tags": []
     },
     "output_type": "display_data"
    },
    {
     "name": "stdout",
     "output_type": "stream",
     "text": [
      "Epoch 1/3\n",
      "WARNING:tensorflow:Callbacks method `on_train_batch_end` is slow compared to the batch time (batch time: 0.1950s vs `on_train_batch_end` time: 0.3315s). Check your callbacks.\n",
      "\n",
      "Epoch 00001: val_binary_accuracy improved from -inf to 0.86453, saving model to ../models/CNN/hyperparameter-optimization\\basenet-preprocessor-Adam_0.0001-random.h5\n",
      "798/798 - 722s - loss: 0.7243 - binary_accuracy: 0.5099 - val_loss: 0.6352 - val_binary_accuracy: 0.8645\n",
      "Epoch 2/3\n",
      "\n",
      "Epoch 00002: val_binary_accuracy did not improve from 0.86453\n",
      "798/798 - 741s - loss: 0.7218 - binary_accuracy: 0.5068 - val_loss: 0.6959 - val_binary_accuracy: 0.1352\n",
      "Epoch 3/3\n",
      "\n",
      "Epoch 00003: val_binary_accuracy did not improve from 0.86453\n",
      "798/798 - 807s - loss: 0.7174 - binary_accuracy: 0.4874 - val_loss: 0.7728 - val_binary_accuracy: 0.1352\n"
     ]
    },
    {
     "data": {
      "text/html": [
       "<span style=\"color:#4527A0\"><h1 style=\"font-size:18px\">Trial complete</h1></span>"
      ],
      "text/plain": [
       "<IPython.core.display.HTML object>"
      ]
     },
     "metadata": {
      "tags": []
     },
     "output_type": "display_data"
    },
    {
     "data": {
      "text/html": [
       "<span style=\"color:#4527A0\"><h1 style=\"font-size:18px\">Trial summary</h1></span>"
      ],
      "text/plain": [
       "<IPython.core.display.HTML object>"
      ]
     },
     "metadata": {
      "tags": []
     },
     "output_type": "display_data"
    },
    {
     "data": {
      "text/html": [
       "<span style=\"color:cyan\"> |-Trial ID: 6fd689dfa557836dd38f12b46ccd8e83</span>"
      ],
      "text/plain": [
       "<IPython.core.display.HTML object>"
      ]
     },
     "metadata": {
      "tags": []
     },
     "output_type": "display_data"
    },
    {
     "data": {
      "text/html": [
       "<span style=\"color:cyan\"> |-Score: 0.864534318447113</span>"
      ],
      "text/plain": [
       "<IPython.core.display.HTML object>"
      ]
     },
     "metadata": {
      "tags": []
     },
     "output_type": "display_data"
    },
    {
     "data": {
      "text/html": [
       "<span style=\"color:cyan\"> |-Best step: 0</span>"
      ],
      "text/plain": [
       "<IPython.core.display.HTML object>"
      ]
     },
     "metadata": {
      "tags": []
     },
     "output_type": "display_data"
    },
    {
     "data": {
      "text/html": [
       "<span style=\"color:#7E57C2\"><h2 style=\"font-size:16px\">Hyperparameters:</h2></span>"
      ],
      "text/plain": [
       "<IPython.core.display.HTML object>"
      ]
     },
     "metadata": {
      "tags": []
     },
     "output_type": "display_data"
    },
    {
     "data": {
      "text/html": [
       "<span style=\"color:cyan\"> |-activation_function: 2</span>"
      ],
      "text/plain": [
       "<IPython.core.display.HTML object>"
      ]
     },
     "metadata": {
      "tags": []
     },
     "output_type": "display_data"
    },
    {
     "data": {
      "text/html": [
       "<span style=\"color:blue\"> |-add_residual: True</span>"
      ],
      "text/plain": [
       "<IPython.core.display.HTML object>"
      ]
     },
     "metadata": {
      "tags": []
     },
     "output_type": "display_data"
    },
    {
     "data": {
      "text/html": [
       "<span style=\"color:cyan\"> |-dense_neurons: 512</span>"
      ],
      "text/plain": [
       "<IPython.core.display.HTML object>"
      ]
     },
     "metadata": {
      "tags": []
     },
     "output_type": "display_data"
    },
    {
     "data": {
      "text/html": [
       "<span style=\"color:blue\"> |-dropout: 0.3</span>"
      ],
      "text/plain": [
       "<IPython.core.display.HTML object>"
      ]
     },
     "metadata": {
      "tags": []
     },
     "output_type": "display_data"
    },
    {
     "data": {
      "text/html": [
       "<span style=\"color:cyan\"> |-tuner/bracket: 1</span>"
      ],
      "text/plain": [
       "<IPython.core.display.HTML object>"
      ]
     },
     "metadata": {
      "tags": []
     },
     "output_type": "display_data"
    },
    {
     "data": {
      "text/html": [
       "<span style=\"color:blue\"> |-tuner/epochs: 3</span>"
      ],
      "text/plain": [
       "<IPython.core.display.HTML object>"
      ]
     },
     "metadata": {
      "tags": []
     },
     "output_type": "display_data"
    },
    {
     "data": {
      "text/html": [
       "<span style=\"color:cyan\"> |-tuner/initial_epoch: 0</span>"
      ],
      "text/plain": [
       "<IPython.core.display.HTML object>"
      ]
     },
     "metadata": {
      "tags": []
     },
     "output_type": "display_data"
    },
    {
     "data": {
      "text/html": [
       "<span style=\"color:blue\"> |-tuner/round: 0</span>"
      ],
      "text/plain": [
       "<IPython.core.display.HTML object>"
      ]
     },
     "metadata": {
      "tags": []
     },
     "output_type": "display_data"
    },
    {
     "name": "stdout",
     "output_type": "stream",
     "text": [
      "Epoch 1/3\n",
      "WARNING:tensorflow:Callbacks method `on_train_batch_end` is slow compared to the batch time (batch time: 0.2323s vs `on_train_batch_end` time: 0.3737s). Check your callbacks.\n",
      "\n",
      "Epoch 00001: val_binary_accuracy improved from -inf to 0.28410, saving model to ../models/CNN/hyperparameter-optimization\\basenet-preprocessor-Adam_0.0001-random.h5\n",
      "798/798 - 742s - loss: 0.6936 - binary_accuracy: 0.5214 - val_loss: 0.6929 - val_binary_accuracy: 0.2841\n",
      "Epoch 2/3\n",
      "\n",
      "Epoch 00002: val_binary_accuracy improved from 0.28410 to 0.70680, saving model to ../models/CNN/hyperparameter-optimization\\basenet-preprocessor-Adam_0.0001-random.h5\n",
      "798/798 - 759s - loss: 0.6807 - binary_accuracy: 0.4807 - val_loss: 0.5815 - val_binary_accuracy: 0.7068\n",
      "Epoch 3/3\n",
      "\n",
      "Epoch 00003: val_binary_accuracy improved from 0.70680 to 0.79304, saving model to ../models/CNN/hyperparameter-optimization\\basenet-preprocessor-Adam_0.0001-random.h5\n",
      "798/798 - 742s - loss: 0.5277 - binary_accuracy: 0.7317 - val_loss: 0.4952 - val_binary_accuracy: 0.7930\n"
     ]
    },
    {
     "data": {
      "text/html": [
       "<span style=\"color:#4527A0\"><h1 style=\"font-size:18px\">Trial complete</h1></span>"
      ],
      "text/plain": [
       "<IPython.core.display.HTML object>"
      ]
     },
     "metadata": {
      "tags": []
     },
     "output_type": "display_data"
    },
    {
     "data": {
      "text/html": [
       "<span style=\"color:#4527A0\"><h1 style=\"font-size:18px\">Trial summary</h1></span>"
      ],
      "text/plain": [
       "<IPython.core.display.HTML object>"
      ]
     },
     "metadata": {
      "tags": []
     },
     "output_type": "display_data"
    },
    {
     "data": {
      "text/html": [
       "<span style=\"color:cyan\"> |-Trial ID: 1a9a0bb5771eccd6c55cda6eea32c282</span>"
      ],
      "text/plain": [
       "<IPython.core.display.HTML object>"
      ]
     },
     "metadata": {
      "tags": []
     },
     "output_type": "display_data"
    },
    {
     "data": {
      "text/html": [
       "<span style=\"color:cyan\"> |-Score: 0.793038547039032</span>"
      ],
      "text/plain": [
       "<IPython.core.display.HTML object>"
      ]
     },
     "metadata": {
      "tags": []
     },
     "output_type": "display_data"
    },
    {
     "data": {
      "text/html": [
       "<span style=\"color:cyan\"> |-Best step: 0</span>"
      ],
      "text/plain": [
       "<IPython.core.display.HTML object>"
      ]
     },
     "metadata": {
      "tags": []
     },
     "output_type": "display_data"
    },
    {
     "data": {
      "text/html": [
       "<span style=\"color:#7E57C2\"><h2 style=\"font-size:16px\">Hyperparameters:</h2></span>"
      ],
      "text/plain": [
       "<IPython.core.display.HTML object>"
      ]
     },
     "metadata": {
      "tags": []
     },
     "output_type": "display_data"
    },
    {
     "data": {
      "text/html": [
       "<span style=\"color:cyan\"> |-activation_function: 1</span>"
      ],
      "text/plain": [
       "<IPython.core.display.HTML object>"
      ]
     },
     "metadata": {
      "tags": []
     },
     "output_type": "display_data"
    },
    {
     "data": {
      "text/html": [
       "<span style=\"color:blue\"> |-add_residual: True</span>"
      ],
      "text/plain": [
       "<IPython.core.display.HTML object>"
      ]
     },
     "metadata": {
      "tags": []
     },
     "output_type": "display_data"
    },
    {
     "data": {
      "text/html": [
       "<span style=\"color:cyan\"> |-dense_neurons: 512</span>"
      ],
      "text/plain": [
       "<IPython.core.display.HTML object>"
      ]
     },
     "metadata": {
      "tags": []
     },
     "output_type": "display_data"
    },
    {
     "data": {
      "text/html": [
       "<span style=\"color:blue\"> |-dropout: 0.2</span>"
      ],
      "text/plain": [
       "<IPython.core.display.HTML object>"
      ]
     },
     "metadata": {
      "tags": []
     },
     "output_type": "display_data"
    },
    {
     "data": {
      "text/html": [
       "<span style=\"color:cyan\"> |-tuner/bracket: 1</span>"
      ],
      "text/plain": [
       "<IPython.core.display.HTML object>"
      ]
     },
     "metadata": {
      "tags": []
     },
     "output_type": "display_data"
    },
    {
     "data": {
      "text/html": [
       "<span style=\"color:blue\"> |-tuner/epochs: 3</span>"
      ],
      "text/plain": [
       "<IPython.core.display.HTML object>"
      ]
     },
     "metadata": {
      "tags": []
     },
     "output_type": "display_data"
    },
    {
     "data": {
      "text/html": [
       "<span style=\"color:cyan\"> |-tuner/initial_epoch: 0</span>"
      ],
      "text/plain": [
       "<IPython.core.display.HTML object>"
      ]
     },
     "metadata": {
      "tags": []
     },
     "output_type": "display_data"
    },
    {
     "data": {
      "text/html": [
       "<span style=\"color:blue\"> |-tuner/round: 0</span>"
      ],
      "text/plain": [
       "<IPython.core.display.HTML object>"
      ]
     },
     "metadata": {
      "tags": []
     },
     "output_type": "display_data"
    },
    {
     "name": "stdout",
     "output_type": "stream",
     "text": [
      "Epoch 1/3\n",
      "WARNING:tensorflow:Callbacks method `on_train_batch_end` is slow compared to the batch time (batch time: 0.1380s vs `on_train_batch_end` time: 0.3020s). Check your callbacks.\n",
      "\n",
      "Epoch 00001: val_binary_accuracy improved from -inf to 0.86485, saving model to ../models/CNN/hyperparameter-optimization\\basenet-preprocessor-Adam_0.0001-random.h5\n",
      "798/798 - 635s - loss: 0.6934 - binary_accuracy: 0.3540 - val_loss: 0.6910 - val_binary_accuracy: 0.8648\n",
      "Epoch 2/3\n",
      "\n",
      "Epoch 00002: val_binary_accuracy did not improve from 0.86485\n",
      "798/798 - 591s - loss: 0.6933 - binary_accuracy: 0.8098 - val_loss: 0.6930 - val_binary_accuracy: 0.8648\n",
      "Epoch 3/3\n",
      "\n",
      "Epoch 00003: val_binary_accuracy did not improve from 0.86485\n",
      "798/798 - 504s - loss: 0.6933 - binary_accuracy: 0.7532 - val_loss: 0.6935 - val_binary_accuracy: 0.1352\n"
     ]
    },
    {
     "data": {
      "text/html": [
       "<span style=\"color:#4527A0\"><h1 style=\"font-size:18px\">Trial complete</h1></span>"
      ],
      "text/plain": [
       "<IPython.core.display.HTML object>"
      ]
     },
     "metadata": {
      "tags": []
     },
     "output_type": "display_data"
    },
    {
     "data": {
      "text/html": [
       "<span style=\"color:#4527A0\"><h1 style=\"font-size:18px\">Trial summary</h1></span>"
      ],
      "text/plain": [
       "<IPython.core.display.HTML object>"
      ]
     },
     "metadata": {
      "tags": []
     },
     "output_type": "display_data"
    },
    {
     "data": {
      "text/html": [
       "<span style=\"color:cyan\"> |-Trial ID: 7cea8996313a3260e0427bb2baa5a457</span>"
      ],
      "text/plain": [
       "<IPython.core.display.HTML object>"
      ]
     },
     "metadata": {
      "tags": []
     },
     "output_type": "display_data"
    },
    {
     "data": {
      "text/html": [
       "<span style=\"color:cyan\"> |-Score: 0.8648478984832764</span>"
      ],
      "text/plain": [
       "<IPython.core.display.HTML object>"
      ]
     },
     "metadata": {
      "tags": []
     },
     "output_type": "display_data"
    },
    {
     "data": {
      "text/html": [
       "<span style=\"color:cyan\"> |-Best step: 0</span>"
      ],
      "text/plain": [
       "<IPython.core.display.HTML object>"
      ]
     },
     "metadata": {
      "tags": []
     },
     "output_type": "display_data"
    },
    {
     "data": {
      "text/html": [
       "<span style=\"color:#7E57C2\"><h2 style=\"font-size:16px\">Hyperparameters:</h2></span>"
      ],
      "text/plain": [
       "<IPython.core.display.HTML object>"
      ]
     },
     "metadata": {
      "tags": []
     },
     "output_type": "display_data"
    },
    {
     "data": {
      "text/html": [
       "<span style=\"color:cyan\"> |-activation_function: 0</span>"
      ],
      "text/plain": [
       "<IPython.core.display.HTML object>"
      ]
     },
     "metadata": {
      "tags": []
     },
     "output_type": "display_data"
    },
    {
     "data": {
      "text/html": [
       "<span style=\"color:blue\"> |-add_residual: False</span>"
      ],
      "text/plain": [
       "<IPython.core.display.HTML object>"
      ]
     },
     "metadata": {
      "tags": []
     },
     "output_type": "display_data"
    },
    {
     "data": {
      "text/html": [
       "<span style=\"color:cyan\"> |-dense_neurons: 512</span>"
      ],
      "text/plain": [
       "<IPython.core.display.HTML object>"
      ]
     },
     "metadata": {
      "tags": []
     },
     "output_type": "display_data"
    },
    {
     "data": {
      "text/html": [
       "<span style=\"color:blue\"> |-dropout: 0.2</span>"
      ],
      "text/plain": [
       "<IPython.core.display.HTML object>"
      ]
     },
     "metadata": {
      "tags": []
     },
     "output_type": "display_data"
    },
    {
     "data": {
      "text/html": [
       "<span style=\"color:cyan\"> |-tuner/bracket: 1</span>"
      ],
      "text/plain": [
       "<IPython.core.display.HTML object>"
      ]
     },
     "metadata": {
      "tags": []
     },
     "output_type": "display_data"
    },
    {
     "data": {
      "text/html": [
       "<span style=\"color:blue\"> |-tuner/epochs: 3</span>"
      ],
      "text/plain": [
       "<IPython.core.display.HTML object>"
      ]
     },
     "metadata": {
      "tags": []
     },
     "output_type": "display_data"
    },
    {
     "data": {
      "text/html": [
       "<span style=\"color:cyan\"> |-tuner/initial_epoch: 0</span>"
      ],
      "text/plain": [
       "<IPython.core.display.HTML object>"
      ]
     },
     "metadata": {
      "tags": []
     },
     "output_type": "display_data"
    },
    {
     "data": {
      "text/html": [
       "<span style=\"color:blue\"> |-tuner/round: 0</span>"
      ],
      "text/plain": [
       "<IPython.core.display.HTML object>"
      ]
     },
     "metadata": {
      "tags": []
     },
     "output_type": "display_data"
    },
    {
     "name": "stdout",
     "output_type": "stream",
     "text": [
      "Epoch 1/3\n",
      "WARNING:tensorflow:Callbacks method `on_train_batch_end` is slow compared to the batch time (batch time: 0.2076s vs `on_train_batch_end` time: 0.3431s). Check your callbacks.\n",
      "\n",
      "Epoch 00001: val_binary_accuracy improved from -inf to 0.13515, saving model to ../models/CNN/hyperparameter-optimization\\basenet-preprocessor-Adam_0.0001-random.h5\n",
      "798/798 - 656s - loss: 0.6934 - binary_accuracy: 0.5654 - val_loss: 0.6938 - val_binary_accuracy: 0.1352\n",
      "Epoch 2/3\n",
      "\n",
      "Epoch 00002: val_binary_accuracy improved from 0.13515 to 0.86485, saving model to ../models/CNN/hyperparameter-optimization\\basenet-preprocessor-Adam_0.0001-random.h5\n",
      "798/798 - 704s - loss: 0.6933 - binary_accuracy: 0.3372 - val_loss: 0.6923 - val_binary_accuracy: 0.8648\n",
      "Epoch 3/3\n",
      "\n",
      "Epoch 00003: val_binary_accuracy did not improve from 0.86485\n",
      "798/798 - 683s - loss: 0.6933 - binary_accuracy: 0.6922 - val_loss: 0.6962 - val_binary_accuracy: 0.1352\n"
     ]
    },
    {
     "data": {
      "text/html": [
       "<span style=\"color:#4527A0\"><h1 style=\"font-size:18px\">Trial complete</h1></span>"
      ],
      "text/plain": [
       "<IPython.core.display.HTML object>"
      ]
     },
     "metadata": {
      "tags": []
     },
     "output_type": "display_data"
    },
    {
     "data": {
      "text/html": [
       "<span style=\"color:#4527A0\"><h1 style=\"font-size:18px\">Trial summary</h1></span>"
      ],
      "text/plain": [
       "<IPython.core.display.HTML object>"
      ]
     },
     "metadata": {
      "tags": []
     },
     "output_type": "display_data"
    },
    {
     "data": {
      "text/html": [
       "<span style=\"color:cyan\"> |-Trial ID: 222599177ccd3cdc33257f7f09dcaec9</span>"
      ],
      "text/plain": [
       "<IPython.core.display.HTML object>"
      ]
     },
     "metadata": {
      "tags": []
     },
     "output_type": "display_data"
    },
    {
     "data": {
      "text/html": [
       "<span style=\"color:cyan\"> |-Score: 0.8648478984832764</span>"
      ],
      "text/plain": [
       "<IPython.core.display.HTML object>"
      ]
     },
     "metadata": {
      "tags": []
     },
     "output_type": "display_data"
    },
    {
     "data": {
      "text/html": [
       "<span style=\"color:cyan\"> |-Best step: 0</span>"
      ],
      "text/plain": [
       "<IPython.core.display.HTML object>"
      ]
     },
     "metadata": {
      "tags": []
     },
     "output_type": "display_data"
    },
    {
     "data": {
      "text/html": [
       "<span style=\"color:#7E57C2\"><h2 style=\"font-size:16px\">Hyperparameters:</h2></span>"
      ],
      "text/plain": [
       "<IPython.core.display.HTML object>"
      ]
     },
     "metadata": {
      "tags": []
     },
     "output_type": "display_data"
    },
    {
     "data": {
      "text/html": [
       "<span style=\"color:cyan\"> |-activation_function: 1</span>"
      ],
      "text/plain": [
       "<IPython.core.display.HTML object>"
      ]
     },
     "metadata": {
      "tags": []
     },
     "output_type": "display_data"
    },
    {
     "data": {
      "text/html": [
       "<span style=\"color:blue\"> |-add_residual: False</span>"
      ],
      "text/plain": [
       "<IPython.core.display.HTML object>"
      ]
     },
     "metadata": {
      "tags": []
     },
     "output_type": "display_data"
    },
    {
     "data": {
      "text/html": [
       "<span style=\"color:cyan\"> |-dense_neurons: 256</span>"
      ],
      "text/plain": [
       "<IPython.core.display.HTML object>"
      ]
     },
     "metadata": {
      "tags": []
     },
     "output_type": "display_data"
    },
    {
     "data": {
      "text/html": [
       "<span style=\"color:blue\"> |-dropout: 0.3</span>"
      ],
      "text/plain": [
       "<IPython.core.display.HTML object>"
      ]
     },
     "metadata": {
      "tags": []
     },
     "output_type": "display_data"
    },
    {
     "data": {
      "text/html": [
       "<span style=\"color:cyan\"> |-tuner/bracket: 1</span>"
      ],
      "text/plain": [
       "<IPython.core.display.HTML object>"
      ]
     },
     "metadata": {
      "tags": []
     },
     "output_type": "display_data"
    },
    {
     "data": {
      "text/html": [
       "<span style=\"color:blue\"> |-tuner/epochs: 3</span>"
      ],
      "text/plain": [
       "<IPython.core.display.HTML object>"
      ]
     },
     "metadata": {
      "tags": []
     },
     "output_type": "display_data"
    },
    {
     "data": {
      "text/html": [
       "<span style=\"color:cyan\"> |-tuner/initial_epoch: 0</span>"
      ],
      "text/plain": [
       "<IPython.core.display.HTML object>"
      ]
     },
     "metadata": {
      "tags": []
     },
     "output_type": "display_data"
    },
    {
     "data": {
      "text/html": [
       "<span style=\"color:blue\"> |-tuner/round: 0</span>"
      ],
      "text/plain": [
       "<IPython.core.display.HTML object>"
      ]
     },
     "metadata": {
      "tags": []
     },
     "output_type": "display_data"
    },
    {
     "name": "stdout",
     "output_type": "stream",
     "text": [
      "Epoch 4/7\n",
      "WARNING:tensorflow:Callbacks method `on_train_batch_end` is slow compared to the batch time (batch time: 0.1471s vs `on_train_batch_end` time: 0.3125s). Check your callbacks.\n",
      "\n",
      "Epoch 00004: val_binary_accuracy improved from -inf to 0.13515, saving model to ../models/CNN/hyperparameter-optimization\\basenet-preprocessor-Adam_0.0001-random.h5\n",
      "798/798 - 571s - loss: 0.6933 - binary_accuracy: 0.6415 - val_loss: 0.6968 - val_binary_accuracy: 0.1352\n",
      "Epoch 5/7\n",
      "\n",
      "Epoch 00005: val_binary_accuracy did not improve from 0.13515\n",
      "798/798 - 597s - loss: 0.6933 - binary_accuracy: 0.4081 - val_loss: 0.6952 - val_binary_accuracy: 0.1352\n",
      "Epoch 6/7\n",
      "\n",
      "Epoch 00006: val_binary_accuracy improved from 0.13515 to 0.86485, saving model to ../models/CNN/hyperparameter-optimization\\basenet-preprocessor-Adam_0.0001-random.h5\n",
      "798/798 - 561s - loss: 0.6933 - binary_accuracy: 0.4138 - val_loss: 0.6894 - val_binary_accuracy: 0.8648\n",
      "Epoch 7/7\n",
      "\n",
      "Epoch 00007: val_binary_accuracy did not improve from 0.86485\n",
      "798/798 - 499s - loss: 0.6933 - binary_accuracy: 0.5023 - val_loss: 0.6959 - val_binary_accuracy: 0.1352\n"
     ]
    },
    {
     "data": {
      "text/html": [
       "<span style=\"color:#4527A0\"><h1 style=\"font-size:18px\">Trial complete</h1></span>"
      ],
      "text/plain": [
       "<IPython.core.display.HTML object>"
      ]
     },
     "metadata": {
      "tags": []
     },
     "output_type": "display_data"
    },
    {
     "data": {
      "text/html": [
       "<span style=\"color:#4527A0\"><h1 style=\"font-size:18px\">Trial summary</h1></span>"
      ],
      "text/plain": [
       "<IPython.core.display.HTML object>"
      ]
     },
     "metadata": {
      "tags": []
     },
     "output_type": "display_data"
    },
    {
     "data": {
      "text/html": [
       "<span style=\"color:cyan\"> |-Trial ID: 39ed4d4d2559165ce39b665032350428</span>"
      ],
      "text/plain": [
       "<IPython.core.display.HTML object>"
      ]
     },
     "metadata": {
      "tags": []
     },
     "output_type": "display_data"
    },
    {
     "data": {
      "text/html": [
       "<span style=\"color:cyan\"> |-Score: 0.8648478984832764</span>"
      ],
      "text/plain": [
       "<IPython.core.display.HTML object>"
      ]
     },
     "metadata": {
      "tags": []
     },
     "output_type": "display_data"
    },
    {
     "data": {
      "text/html": [
       "<span style=\"color:cyan\"> |-Best step: 0</span>"
      ],
      "text/plain": [
       "<IPython.core.display.HTML object>"
      ]
     },
     "metadata": {
      "tags": []
     },
     "output_type": "display_data"
    },
    {
     "data": {
      "text/html": [
       "<span style=\"color:#7E57C2\"><h2 style=\"font-size:16px\">Hyperparameters:</h2></span>"
      ],
      "text/plain": [
       "<IPython.core.display.HTML object>"
      ]
     },
     "metadata": {
      "tags": []
     },
     "output_type": "display_data"
    },
    {
     "data": {
      "text/html": [
       "<span style=\"color:cyan\"> |-activation_function: 0</span>"
      ],
      "text/plain": [
       "<IPython.core.display.HTML object>"
      ]
     },
     "metadata": {
      "tags": []
     },
     "output_type": "display_data"
    },
    {
     "data": {
      "text/html": [
       "<span style=\"color:blue\"> |-add_residual: False</span>"
      ],
      "text/plain": [
       "<IPython.core.display.HTML object>"
      ]
     },
     "metadata": {
      "tags": []
     },
     "output_type": "display_data"
    },
    {
     "data": {
      "text/html": [
       "<span style=\"color:cyan\"> |-dense_neurons: 512</span>"
      ],
      "text/plain": [
       "<IPython.core.display.HTML object>"
      ]
     },
     "metadata": {
      "tags": []
     },
     "output_type": "display_data"
    },
    {
     "data": {
      "text/html": [
       "<span style=\"color:blue\"> |-dropout: 0.2</span>"
      ],
      "text/plain": [
       "<IPython.core.display.HTML object>"
      ]
     },
     "metadata": {
      "tags": []
     },
     "output_type": "display_data"
    },
    {
     "data": {
      "text/html": [
       "<span style=\"color:cyan\"> |-tuner/bracket: 1</span>"
      ],
      "text/plain": [
       "<IPython.core.display.HTML object>"
      ]
     },
     "metadata": {
      "tags": []
     },
     "output_type": "display_data"
    },
    {
     "data": {
      "text/html": [
       "<span style=\"color:blue\"> |-tuner/epochs: 7</span>"
      ],
      "text/plain": [
       "<IPython.core.display.HTML object>"
      ]
     },
     "metadata": {
      "tags": []
     },
     "output_type": "display_data"
    },
    {
     "data": {
      "text/html": [
       "<span style=\"color:cyan\"> |-tuner/initial_epoch: 3</span>"
      ],
      "text/plain": [
       "<IPython.core.display.HTML object>"
      ]
     },
     "metadata": {
      "tags": []
     },
     "output_type": "display_data"
    },
    {
     "data": {
      "text/html": [
       "<span style=\"color:blue\"> |-tuner/round: 1</span>"
      ],
      "text/plain": [
       "<IPython.core.display.HTML object>"
      ]
     },
     "metadata": {
      "tags": []
     },
     "output_type": "display_data"
    },
    {
     "data": {
      "text/html": [
       "<span style=\"color:cyan\"> |-tuner/trial_id: 7cea8996313a3260e0427bb2baa5a457</span>"
      ],
      "text/plain": [
       "<IPython.core.display.HTML object>"
      ]
     },
     "metadata": {
      "tags": []
     },
     "output_type": "display_data"
    },
    {
     "name": "stdout",
     "output_type": "stream",
     "text": [
      "Epoch 4/7\n",
      "WARNING:tensorflow:Callbacks method `on_train_batch_end` is slow compared to the batch time (batch time: 0.2062s vs `on_train_batch_end` time: 0.3417s). Check your callbacks.\n",
      "\n",
      "Epoch 00004: val_binary_accuracy improved from -inf to 0.13515, saving model to ../models/CNN/hyperparameter-optimization\\basenet-preprocessor-Adam_0.0001-random.h5\n",
      "798/798 - 531s - loss: 0.6934 - binary_accuracy: 0.6576 - val_loss: 0.6966 - val_binary_accuracy: 0.1352\n",
      "Epoch 5/7\n",
      "\n",
      "Epoch 00005: val_binary_accuracy did not improve from 0.13515\n",
      "798/798 - 619s - loss: 0.6933 - binary_accuracy: 0.6434 - val_loss: 0.6949 - val_binary_accuracy: 0.1352\n",
      "Epoch 6/7\n",
      "\n",
      "Epoch 00006: val_binary_accuracy did not improve from 0.13515\n",
      "798/798 - 535s - loss: 0.6933 - binary_accuracy: 0.5485 - val_loss: 0.6976 - val_binary_accuracy: 0.1352\n",
      "Epoch 7/7\n",
      "\n",
      "Epoch 00007: val_binary_accuracy improved from 0.13515 to 0.86485, saving model to ../models/CNN/hyperparameter-optimization\\basenet-preprocessor-Adam_0.0001-random.h5\n",
      "798/798 - 600s - loss: 0.6934 - binary_accuracy: 0.2738 - val_loss: 0.6923 - val_binary_accuracy: 0.8648\n"
     ]
    },
    {
     "data": {
      "text/html": [
       "<span style=\"color:#4527A0\"><h1 style=\"font-size:18px\">Trial complete</h1></span>"
      ],
      "text/plain": [
       "<IPython.core.display.HTML object>"
      ]
     },
     "metadata": {
      "tags": []
     },
     "output_type": "display_data"
    },
    {
     "data": {
      "text/html": [
       "<span style=\"color:#4527A0\"><h1 style=\"font-size:18px\">Trial summary</h1></span>"
      ],
      "text/plain": [
       "<IPython.core.display.HTML object>"
      ]
     },
     "metadata": {
      "tags": []
     },
     "output_type": "display_data"
    },
    {
     "data": {
      "text/html": [
       "<span style=\"color:cyan\"> |-Trial ID: 2635504c2f3d4a07ef4d5b1e89e6dea7</span>"
      ],
      "text/plain": [
       "<IPython.core.display.HTML object>"
      ]
     },
     "metadata": {
      "tags": []
     },
     "output_type": "display_data"
    },
    {
     "data": {
      "text/html": [
       "<span style=\"color:cyan\"> |-Score: 0.8648478984832764</span>"
      ],
      "text/plain": [
       "<IPython.core.display.HTML object>"
      ]
     },
     "metadata": {
      "tags": []
     },
     "output_type": "display_data"
    },
    {
     "data": {
      "text/html": [
       "<span style=\"color:cyan\"> |-Best step: 0</span>"
      ],
      "text/plain": [
       "<IPython.core.display.HTML object>"
      ]
     },
     "metadata": {
      "tags": []
     },
     "output_type": "display_data"
    },
    {
     "data": {
      "text/html": [
       "<span style=\"color:#7E57C2\"><h2 style=\"font-size:16px\">Hyperparameters:</h2></span>"
      ],
      "text/plain": [
       "<IPython.core.display.HTML object>"
      ]
     },
     "metadata": {
      "tags": []
     },
     "output_type": "display_data"
    },
    {
     "data": {
      "text/html": [
       "<span style=\"color:cyan\"> |-activation_function: 1</span>"
      ],
      "text/plain": [
       "<IPython.core.display.HTML object>"
      ]
     },
     "metadata": {
      "tags": []
     },
     "output_type": "display_data"
    },
    {
     "data": {
      "text/html": [
       "<span style=\"color:blue\"> |-add_residual: False</span>"
      ],
      "text/plain": [
       "<IPython.core.display.HTML object>"
      ]
     },
     "metadata": {
      "tags": []
     },
     "output_type": "display_data"
    },
    {
     "data": {
      "text/html": [
       "<span style=\"color:cyan\"> |-dense_neurons: 256</span>"
      ],
      "text/plain": [
       "<IPython.core.display.HTML object>"
      ]
     },
     "metadata": {
      "tags": []
     },
     "output_type": "display_data"
    },
    {
     "data": {
      "text/html": [
       "<span style=\"color:blue\"> |-dropout: 0.3</span>"
      ],
      "text/plain": [
       "<IPython.core.display.HTML object>"
      ]
     },
     "metadata": {
      "tags": []
     },
     "output_type": "display_data"
    },
    {
     "data": {
      "text/html": [
       "<span style=\"color:cyan\"> |-tuner/bracket: 1</span>"
      ],
      "text/plain": [
       "<IPython.core.display.HTML object>"
      ]
     },
     "metadata": {
      "tags": []
     },
     "output_type": "display_data"
    },
    {
     "data": {
      "text/html": [
       "<span style=\"color:blue\"> |-tuner/epochs: 7</span>"
      ],
      "text/plain": [
       "<IPython.core.display.HTML object>"
      ]
     },
     "metadata": {
      "tags": []
     },
     "output_type": "display_data"
    },
    {
     "data": {
      "text/html": [
       "<span style=\"color:cyan\"> |-tuner/initial_epoch: 3</span>"
      ],
      "text/plain": [
       "<IPython.core.display.HTML object>"
      ]
     },
     "metadata": {
      "tags": []
     },
     "output_type": "display_data"
    },
    {
     "data": {
      "text/html": [
       "<span style=\"color:blue\"> |-tuner/round: 1</span>"
      ],
      "text/plain": [
       "<IPython.core.display.HTML object>"
      ]
     },
     "metadata": {
      "tags": []
     },
     "output_type": "display_data"
    },
    {
     "data": {
      "text/html": [
       "<span style=\"color:cyan\"> |-tuner/trial_id: 222599177ccd3cdc33257f7f09dcaec9</span>"
      ],
      "text/plain": [
       "<IPython.core.display.HTML object>"
      ]
     },
     "metadata": {
      "tags": []
     },
     "output_type": "display_data"
    },
    {
     "name": "stdout",
     "output_type": "stream",
     "text": [
      "Epoch 1/7\n",
      "WARNING:tensorflow:Callbacks method `on_train_batch_end` is slow compared to the batch time (batch time: 0.1790s vs `on_train_batch_end` time: 0.3190s). Check your callbacks.\n",
      "\n",
      "Epoch 00001: val_binary_accuracy improved from -inf to 0.13515, saving model to ../models/CNN/hyperparameter-optimization\\basenet-preprocessor-Adam_0.0001-random.h5\n",
      "798/798 - 533s - loss: 0.7767 - binary_accuracy: 0.4949 - val_loss: 0.7622 - val_binary_accuracy: 0.1352\n",
      "Epoch 2/7\n",
      "\n",
      "Epoch 00002: val_binary_accuracy improved from 0.13515 to 0.86485, saving model to ../models/CNN/hyperparameter-optimization\\basenet-preprocessor-Adam_0.0001-random.h5\n",
      "798/798 - 543s - loss: 0.7426 - binary_accuracy: 0.5013 - val_loss: 0.6781 - val_binary_accuracy: 0.8648\n",
      "Epoch 3/7\n",
      "\n",
      "Epoch 00003: val_binary_accuracy did not improve from 0.86485\n",
      "798/798 - 571s - loss: 0.7311 - binary_accuracy: 0.4955 - val_loss: 0.5690 - val_binary_accuracy: 0.8648\n",
      "Epoch 4/7\n",
      "\n",
      "Epoch 00004: val_binary_accuracy did not improve from 0.86485\n",
      "798/798 - 522s - loss: 0.6656 - binary_accuracy: 0.6017 - val_loss: 0.4795 - val_binary_accuracy: 0.8109\n",
      "Epoch 5/7\n",
      "\n",
      "Epoch 00005: val_binary_accuracy did not improve from 0.86485\n",
      "798/798 - 535s - loss: 0.6738 - binary_accuracy: 0.5827 - val_loss: 0.6795 - val_binary_accuracy: 0.8648\n",
      "Epoch 6/7\n",
      "\n",
      "Epoch 00006: val_binary_accuracy did not improve from 0.86485\n",
      "798/798 - 552s - loss: 0.6980 - binary_accuracy: 0.5334 - val_loss: 0.7108 - val_binary_accuracy: 0.1352\n",
      "Epoch 7/7\n",
      "Restoring model weights from the end of the best epoch.\n",
      "\n",
      "Epoch 00007: val_binary_accuracy did not improve from 0.86485\n",
      "798/798 - 539s - loss: 0.7115 - binary_accuracy: 0.4978 - val_loss: 0.6597 - val_binary_accuracy: 0.8648\n",
      "Epoch 00007: early stopping\n"
     ]
    },
    {
     "data": {
      "text/html": [
       "<span style=\"color:#4527A0\"><h1 style=\"font-size:18px\">Trial complete</h1></span>"
      ],
      "text/plain": [
       "<IPython.core.display.HTML object>"
      ]
     },
     "metadata": {
      "tags": []
     },
     "output_type": "display_data"
    },
    {
     "data": {
      "text/html": [
       "<span style=\"color:#4527A0\"><h1 style=\"font-size:18px\">Trial summary</h1></span>"
      ],
      "text/plain": [
       "<IPython.core.display.HTML object>"
      ]
     },
     "metadata": {
      "tags": []
     },
     "output_type": "display_data"
    },
    {
     "data": {
      "text/html": [
       "<span style=\"color:cyan\"> |-Trial ID: 4ba5c46d9efecdca54615ae5f5282da7</span>"
      ],
      "text/plain": [
       "<IPython.core.display.HTML object>"
      ]
     },
     "metadata": {
      "tags": []
     },
     "output_type": "display_data"
    },
    {
     "data": {
      "text/html": [
       "<span style=\"color:cyan\"> |-Score: 0.8648478984832764</span>"
      ],
      "text/plain": [
       "<IPython.core.display.HTML object>"
      ]
     },
     "metadata": {
      "tags": []
     },
     "output_type": "display_data"
    },
    {
     "data": {
      "text/html": [
       "<span style=\"color:cyan\"> |-Best step: 0</span>"
      ],
      "text/plain": [
       "<IPython.core.display.HTML object>"
      ]
     },
     "metadata": {
      "tags": []
     },
     "output_type": "display_data"
    },
    {
     "data": {
      "text/html": [
       "<span style=\"color:#7E57C2\"><h2 style=\"font-size:16px\">Hyperparameters:</h2></span>"
      ],
      "text/plain": [
       "<IPython.core.display.HTML object>"
      ]
     },
     "metadata": {
      "tags": []
     },
     "output_type": "display_data"
    },
    {
     "data": {
      "text/html": [
       "<span style=\"color:cyan\"> |-activation_function: 2</span>"
      ],
      "text/plain": [
       "<IPython.core.display.HTML object>"
      ]
     },
     "metadata": {
      "tags": []
     },
     "output_type": "display_data"
    },
    {
     "data": {
      "text/html": [
       "<span style=\"color:blue\"> |-add_residual: True</span>"
      ],
      "text/plain": [
       "<IPython.core.display.HTML object>"
      ]
     },
     "metadata": {
      "tags": []
     },
     "output_type": "display_data"
    },
    {
     "data": {
      "text/html": [
       "<span style=\"color:cyan\"> |-dense_neurons: 128</span>"
      ],
      "text/plain": [
       "<IPython.core.display.HTML object>"
      ]
     },
     "metadata": {
      "tags": []
     },
     "output_type": "display_data"
    },
    {
     "data": {
      "text/html": [
       "<span style=\"color:blue\"> |-dropout: 0.5</span>"
      ],
      "text/plain": [
       "<IPython.core.display.HTML object>"
      ]
     },
     "metadata": {
      "tags": []
     },
     "output_type": "display_data"
    },
    {
     "data": {
      "text/html": [
       "<span style=\"color:cyan\"> |-tuner/bracket: 0</span>"
      ],
      "text/plain": [
       "<IPython.core.display.HTML object>"
      ]
     },
     "metadata": {
      "tags": []
     },
     "output_type": "display_data"
    },
    {
     "data": {
      "text/html": [
       "<span style=\"color:blue\"> |-tuner/epochs: 7</span>"
      ],
      "text/plain": [
       "<IPython.core.display.HTML object>"
      ]
     },
     "metadata": {
      "tags": []
     },
     "output_type": "display_data"
    },
    {
     "data": {
      "text/html": [
       "<span style=\"color:cyan\"> |-tuner/initial_epoch: 0</span>"
      ],
      "text/plain": [
       "<IPython.core.display.HTML object>"
      ]
     },
     "metadata": {
      "tags": []
     },
     "output_type": "display_data"
    },
    {
     "data": {
      "text/html": [
       "<span style=\"color:blue\"> |-tuner/round: 0</span>"
      ],
      "text/plain": [
       "<IPython.core.display.HTML object>"
      ]
     },
     "metadata": {
      "tags": []
     },
     "output_type": "display_data"
    },
    {
     "name": "stdout",
     "output_type": "stream",
     "text": [
      "Epoch 1/7\n",
      "WARNING:tensorflow:Callbacks method `on_train_batch_end` is slow compared to the batch time (batch time: 0.1429s vs `on_train_batch_end` time: 0.3163s). Check your callbacks.\n",
      "\n",
      "Epoch 00001: val_binary_accuracy improved from -inf to 0.42302, saving model to ../models/CNN/hyperparameter-optimization\\basenet-preprocessor-Adam_0.0001-random.h5\n",
      "798/798 - 549s - loss: 0.6901 - binary_accuracy: 0.7135 - val_loss: 0.6389 - val_binary_accuracy: 0.4230\n",
      "Epoch 2/7\n",
      "\n",
      "Epoch 00002: val_binary_accuracy improved from 0.42302 to 0.67639, saving model to ../models/CNN/hyperparameter-optimization\\basenet-preprocessor-Adam_0.0001-random.h5\n",
      "798/798 - 560s - loss: 0.5680 - binary_accuracy: 0.6736 - val_loss: 0.6944 - val_binary_accuracy: 0.6764\n",
      "Epoch 3/7\n",
      "\n",
      "Epoch 00003: val_binary_accuracy improved from 0.67639 to 0.82001, saving model to ../models/CNN/hyperparameter-optimization\\basenet-preprocessor-Adam_0.0001-random.h5\n",
      "798/798 - 528s - loss: 0.3995 - binary_accuracy: 0.8324 - val_loss: 0.4502 - val_binary_accuracy: 0.8200\n",
      "Epoch 4/7\n",
      "\n",
      "Epoch 00004: val_binary_accuracy improved from 0.82001 to 0.88899, saving model to ../models/CNN/hyperparameter-optimization\\basenet-preprocessor-Adam_0.0001-random.h5\n",
      "798/798 - 568s - loss: 0.3037 - binary_accuracy: 0.8860 - val_loss: 0.3364 - val_binary_accuracy: 0.8890\n",
      "Epoch 5/7\n",
      "\n",
      "Epoch 00005: val_binary_accuracy did not improve from 0.88899\n",
      "798/798 - 548s - loss: 0.2515 - binary_accuracy: 0.8987 - val_loss: 0.3296 - val_binary_accuracy: 0.8761\n",
      "Epoch 6/7\n",
      "\n",
      "Epoch 00006: val_binary_accuracy did not improve from 0.88899\n",
      "798/798 - 509s - loss: 0.2045 - binary_accuracy: 0.9165 - val_loss: 0.3856 - val_binary_accuracy: 0.8366\n",
      "Epoch 7/7\n",
      "\n",
      "Epoch 00007: val_binary_accuracy improved from 0.88899 to 0.90216, saving model to ../models/CNN/hyperparameter-optimization\\basenet-preprocessor-Adam_0.0001-random.h5\n",
      "798/798 - 486s - loss: 0.1851 - binary_accuracy: 0.9255 - val_loss: 0.2893 - val_binary_accuracy: 0.9022\n"
     ]
    },
    {
     "data": {
      "text/html": [
       "<span style=\"color:#4527A0\"><h1 style=\"font-size:18px\">Trial complete</h1></span>"
      ],
      "text/plain": [
       "<IPython.core.display.HTML object>"
      ]
     },
     "metadata": {
      "tags": []
     },
     "output_type": "display_data"
    },
    {
     "data": {
      "text/html": [
       "<span style=\"color:#4527A0\"><h1 style=\"font-size:18px\">Trial summary</h1></span>"
      ],
      "text/plain": [
       "<IPython.core.display.HTML object>"
      ]
     },
     "metadata": {
      "tags": []
     },
     "output_type": "display_data"
    },
    {
     "data": {
      "text/html": [
       "<span style=\"color:cyan\"> |-Trial ID: dbb3093fd6b70a5e53d10e14c06e0448</span>"
      ],
      "text/plain": [
       "<IPython.core.display.HTML object>"
      ]
     },
     "metadata": {
      "tags": []
     },
     "output_type": "display_data"
    },
    {
     "data": {
      "text/html": [
       "<span style=\"color:cyan\"> |-Score: 0.9021636843681335</span>"
      ],
      "text/plain": [
       "<IPython.core.display.HTML object>"
      ]
     },
     "metadata": {
      "tags": []
     },
     "output_type": "display_data"
    },
    {
     "data": {
      "text/html": [
       "<span style=\"color:cyan\"> |-Best step: 0</span>"
      ],
      "text/plain": [
       "<IPython.core.display.HTML object>"
      ]
     },
     "metadata": {
      "tags": []
     },
     "output_type": "display_data"
    },
    {
     "data": {
      "text/html": [
       "<span style=\"color:#7E57C2\"><h2 style=\"font-size:16px\">Hyperparameters:</h2></span>"
      ],
      "text/plain": [
       "<IPython.core.display.HTML object>"
      ]
     },
     "metadata": {
      "tags": []
     },
     "output_type": "display_data"
    },
    {
     "data": {
      "text/html": [
       "<span style=\"color:cyan\"> |-activation_function: 0</span>"
      ],
      "text/plain": [
       "<IPython.core.display.HTML object>"
      ]
     },
     "metadata": {
      "tags": []
     },
     "output_type": "display_data"
    },
    {
     "data": {
      "text/html": [
       "<span style=\"color:blue\"> |-add_residual: True</span>"
      ],
      "text/plain": [
       "<IPython.core.display.HTML object>"
      ]
     },
     "metadata": {
      "tags": []
     },
     "output_type": "display_data"
    },
    {
     "data": {
      "text/html": [
       "<span style=\"color:cyan\"> |-dense_neurons: 512</span>"
      ],
      "text/plain": [
       "<IPython.core.display.HTML object>"
      ]
     },
     "metadata": {
      "tags": []
     },
     "output_type": "display_data"
    },
    {
     "data": {
      "text/html": [
       "<span style=\"color:blue\"> |-dropout: 0.2</span>"
      ],
      "text/plain": [
       "<IPython.core.display.HTML object>"
      ]
     },
     "metadata": {
      "tags": []
     },
     "output_type": "display_data"
    },
    {
     "data": {
      "text/html": [
       "<span style=\"color:cyan\"> |-tuner/bracket: 0</span>"
      ],
      "text/plain": [
       "<IPython.core.display.HTML object>"
      ]
     },
     "metadata": {
      "tags": []
     },
     "output_type": "display_data"
    },
    {
     "data": {
      "text/html": [
       "<span style=\"color:blue\"> |-tuner/epochs: 7</span>"
      ],
      "text/plain": [
       "<IPython.core.display.HTML object>"
      ]
     },
     "metadata": {
      "tags": []
     },
     "output_type": "display_data"
    },
    {
     "data": {
      "text/html": [
       "<span style=\"color:cyan\"> |-tuner/initial_epoch: 0</span>"
      ],
      "text/plain": [
       "<IPython.core.display.HTML object>"
      ]
     },
     "metadata": {
      "tags": []
     },
     "output_type": "display_data"
    },
    {
     "data": {
      "text/html": [
       "<span style=\"color:blue\"> |-tuner/round: 0</span>"
      ],
      "text/plain": [
       "<IPython.core.display.HTML object>"
      ]
     },
     "metadata": {
      "tags": []
     },
     "output_type": "display_data"
    },
    {
     "name": "stdout",
     "output_type": "stream",
     "text": [
      "Epoch 1/7\n",
      "WARNING:tensorflow:Callbacks method `on_train_batch_end` is slow compared to the batch time (batch time: 0.2080s vs `on_train_batch_end` time: 0.3383s). Check your callbacks.\n",
      "\n",
      "Epoch 00001: val_binary_accuracy improved from -inf to 0.86485, saving model to ../models/CNN/hyperparameter-optimization\\basenet-preprocessor-Adam_0.0001-random.h5\n",
      "798/798 - 609s - loss: 0.6933 - binary_accuracy: 0.3663 - val_loss: 0.6915 - val_binary_accuracy: 0.8648\n",
      "Epoch 2/7\n",
      "\n",
      "Epoch 00002: val_binary_accuracy did not improve from 0.86485\n",
      "798/798 - 536s - loss: 0.6946 - binary_accuracy: 0.5735 - val_loss: 0.6950 - val_binary_accuracy: 0.1352\n",
      "Epoch 3/7\n",
      "\n",
      "Epoch 00003: val_binary_accuracy did not improve from 0.86485\n",
      "798/798 - 614s - loss: 0.6933 - binary_accuracy: 0.4677 - val_loss: 0.6957 - val_binary_accuracy: 0.1352\n",
      "Epoch 4/7\n",
      "\n",
      "Epoch 00004: val_binary_accuracy did not improve from 0.86485\n",
      "798/798 - 583s - loss: 0.6933 - binary_accuracy: 0.2535 - val_loss: 0.6938 - val_binary_accuracy: 0.1352\n",
      "Epoch 5/7\n",
      "\n",
      "Epoch 00005: val_binary_accuracy did not improve from 0.86485\n",
      "798/798 - 574s - loss: 0.6933 - binary_accuracy: 0.2866 - val_loss: 0.6933 - val_binary_accuracy: 0.1352\n",
      "Epoch 6/7\n",
      "Restoring model weights from the end of the best epoch.\n",
      "\n",
      "Epoch 00006: val_binary_accuracy did not improve from 0.86485\n",
      "798/798 - 588s - loss: 0.6933 - binary_accuracy: 0.2210 - val_loss: 0.6924 - val_binary_accuracy: 0.8648\n",
      "Epoch 00006: early stopping\n"
     ]
    },
    {
     "data": {
      "text/html": [
       "<span style=\"color:#4527A0\"><h1 style=\"font-size:18px\">Trial complete</h1></span>"
      ],
      "text/plain": [
       "<IPython.core.display.HTML object>"
      ]
     },
     "metadata": {
      "tags": []
     },
     "output_type": "display_data"
    },
    {
     "data": {
      "text/html": [
       "<span style=\"color:#4527A0\"><h1 style=\"font-size:18px\">Trial summary</h1></span>"
      ],
      "text/plain": [
       "<IPython.core.display.HTML object>"
      ]
     },
     "metadata": {
      "tags": []
     },
     "output_type": "display_data"
    },
    {
     "data": {
      "text/html": [
       "<span style=\"color:cyan\"> |-Trial ID: 342846be09667cb56324846414431057</span>"
      ],
      "text/plain": [
       "<IPython.core.display.HTML object>"
      ]
     },
     "metadata": {
      "tags": []
     },
     "output_type": "display_data"
    },
    {
     "data": {
      "text/html": [
       "<span style=\"color:cyan\"> |-Score: 0.8648478984832764</span>"
      ],
      "text/plain": [
       "<IPython.core.display.HTML object>"
      ]
     },
     "metadata": {
      "tags": []
     },
     "output_type": "display_data"
    },
    {
     "data": {
      "text/html": [
       "<span style=\"color:cyan\"> |-Best step: 0</span>"
      ],
      "text/plain": [
       "<IPython.core.display.HTML object>"
      ]
     },
     "metadata": {
      "tags": []
     },
     "output_type": "display_data"
    },
    {
     "data": {
      "text/html": [
       "<span style=\"color:#7E57C2\"><h2 style=\"font-size:16px\">Hyperparameters:</h2></span>"
      ],
      "text/plain": [
       "<IPython.core.display.HTML object>"
      ]
     },
     "metadata": {
      "tags": []
     },
     "output_type": "display_data"
    },
    {
     "data": {
      "text/html": [
       "<span style=\"color:cyan\"> |-activation_function: 1</span>"
      ],
      "text/plain": [
       "<IPython.core.display.HTML object>"
      ]
     },
     "metadata": {
      "tags": []
     },
     "output_type": "display_data"
    },
    {
     "data": {
      "text/html": [
       "<span style=\"color:blue\"> |-add_residual: False</span>"
      ],
      "text/plain": [
       "<IPython.core.display.HTML object>"
      ]
     },
     "metadata": {
      "tags": []
     },
     "output_type": "display_data"
    },
    {
     "data": {
      "text/html": [
       "<span style=\"color:cyan\"> |-dense_neurons: 128</span>"
      ],
      "text/plain": [
       "<IPython.core.display.HTML object>"
      ]
     },
     "metadata": {
      "tags": []
     },
     "output_type": "display_data"
    },
    {
     "data": {
      "text/html": [
       "<span style=\"color:blue\"> |-dropout: 0.2</span>"
      ],
      "text/plain": [
       "<IPython.core.display.HTML object>"
      ]
     },
     "metadata": {
      "tags": []
     },
     "output_type": "display_data"
    },
    {
     "data": {
      "text/html": [
       "<span style=\"color:cyan\"> |-tuner/bracket: 0</span>"
      ],
      "text/plain": [
       "<IPython.core.display.HTML object>"
      ]
     },
     "metadata": {
      "tags": []
     },
     "output_type": "display_data"
    },
    {
     "data": {
      "text/html": [
       "<span style=\"color:blue\"> |-tuner/epochs: 7</span>"
      ],
      "text/plain": [
       "<IPython.core.display.HTML object>"
      ]
     },
     "metadata": {
      "tags": []
     },
     "output_type": "display_data"
    },
    {
     "data": {
      "text/html": [
       "<span style=\"color:cyan\"> |-tuner/initial_epoch: 0</span>"
      ],
      "text/plain": [
       "<IPython.core.display.HTML object>"
      ]
     },
     "metadata": {
      "tags": []
     },
     "output_type": "display_data"
    },
    {
     "data": {
      "text/html": [
       "<span style=\"color:blue\"> |-tuner/round: 0</span>"
      ],
      "text/plain": [
       "<IPython.core.display.HTML object>"
      ]
     },
     "metadata": {
      "tags": []
     },
     "output_type": "display_data"
    },
    {
     "name": "stdout",
     "output_type": "stream",
     "text": [
      "INFO:tensorflow:Oracle triggered exit\n"
     ]
    }
   ],
   "source": [
    "tuner.search(x=train_gen, validation_data=valid_gen, epochs=EPOCH_CNT, verbose=2, callbacks=[early_stopping, checkpointing], class_weight=get_class_weights(TRAIN_DIR))"
   ]
  },
  {
   "cell_type": "markdown",
   "metadata": {
    "id": "3vC9xBhRlWLT"
   },
   "source": [
    "* Summarize the optimal hyperparameters found by the tuner.\n",
    "* This configuration is then used to construct the BaseNet model definition used in other experiments."
   ]
  },
  {
   "cell_type": "code",
   "execution_count": null,
   "metadata": {
    "id": "9svYevieU9Cy",
    "outputId": "5ca066b5-6286-472d-857a-203a382138fe"
   },
   "outputs": [
    {
     "name": "stdout",
     "output_type": "stream",
     "text": [
      "\n",
      "Hyperparameter search complete after 46692.48 seconds.\n",
      "\n",
      "Optimal state for the residual connection: True\n",
      "\n",
      "Optimal dense layer neurons: 512\n",
      "\n",
      "Optimal activation function: ReLU\n",
      "\n",
      "Optimal dropout rate: 0.2\n",
      "\n"
     ]
    }
   ],
   "source": [
    "# get the optimal hyperparameters\n",
    "best_hps=tuner.get_best_hyperparameters(num_trials=1)[0]\n",
    "\n",
    "activation_functions = ['ReLU', 'Parametrized ReLU (alpha=0.1)', 'Tanh']\n",
    "\n",
    "print(f\"\"\"\n",
    "Hyperparameter search complete after {(time.time() - start):.2f} seconds.\\n\n",
    "Optimal state for the residual connection: {best_hps.get('add_residual')}\\n\n",
    "Optimal dense layer neurons: {best_hps.get('dense_neurons')}\\n\n",
    "Optimal activation function: {activation_functions[best_hps.get('activation_function')]}\\n\n",
    "Optimal dropout rate: {best_hps.get('dropout')}\n",
    "\"\"\")"
   ]
  }
 ],
 "metadata": {
  "accelerator": "GPU",
  "colab": {
   "collapsed_sections": [],
   "name": "Hyperparameter_optimization.ipynb",
   "provenance": [],
   "toc_visible": true
  },
  "kernelspec": {
   "display_name": "Python 3",
   "language": "python",
   "name": "python3"
  },
  "language_info": {
   "codemirror_mode": {
    "name": "ipython",
    "version": 3
   },
   "file_extension": ".py",
   "mimetype": "text/x-python",
   "name": "python",
   "nbconvert_exporter": "python",
   "pygments_lexer": "ipython3",
   "version": "3.8.8"
  }
 },
 "nbformat": 4,
 "nbformat_minor": 1
}
