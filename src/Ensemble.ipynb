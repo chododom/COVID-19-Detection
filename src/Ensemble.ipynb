{
 "cells": [
  {
   "cell_type": "markdown",
   "metadata": {
    "id": "gEgfhhlzr9dt"
   },
   "source": [
    "# Ensemble Model\n",
    "\n",
    "* The purpose of this notebook is to combine several of the most successful pre-trained models from other experiments into an ensemble and evaluate their collective classification."
   ]
  },
  {
   "cell_type": "markdown",
   "metadata": {
    "id": "b_gzPJKPZFDg"
   },
   "source": [
    "*Author: Dominik Chodounský, FIT CTU in Prague (Last edit: 05/11/21)*"
   ]
  },
  {
   "cell_type": "code",
   "execution_count": 1,
   "metadata": {
    "id": "gGn7DpsnB0ah"
   },
   "outputs": [],
   "source": [
    "import warnings\n",
    "warnings.filterwarnings(\"ignore\")\n",
    "import tensorflow as tf\n",
    "from tensorflow.keras import callbacks\n",
    "from tensorflow.keras.optimizers import SGD, Nadam, Adam\n",
    "from tensorflow.python.client import device_lib\n",
    "from tensorflow.keras.preprocessing.image import ImageDataGenerator\n",
    "from sklearn.metrics import classification_report, confusion_matrix, roc_auc_score, roc_curve\n",
    "import cv2\n",
    "import matplotlib.pyplot as plt\n",
    "import time\n",
    "import random\n",
    "import numpy as np\n",
    "import os\n",
    "import sys\n",
    "import shutil"
   ]
  },
  {
   "cell_type": "markdown",
   "metadata": {
    "id": "JcYsu377tA2P"
   },
   "source": [
    "## Constants and Settings\n",
    "* Set variable *ROOT_DIR* to contain path to root *BI-BAP* folder.\n",
    "* Set variables *TRAIN_DIR* and *TEST_DIR* to contain paths to training and test data folders (default values are meant for training on the COVIDx8B dataset).\n",
    "* You may change the default parameters for the evaluation as well, their description is provided in the following cell."
   ]
  },
  {
   "cell_type": "code",
   "execution_count": 2,
   "metadata": {
    "id": "2hdRVs_VCByj"
   },
   "outputs": [],
   "source": [
    "ROOT_PATH = '../'\n",
    "TRAIN_DIR = os.path.join(ROOT_PATH, 'data/COVIDx8B/train')\n",
    "TEST_DIR = os.path.join(ROOT_PATH, 'data/COVIDx8B/test')\n",
    "\n",
    "IMG_SIZE = 224   # target width and height of images that they will be resized to\n",
    "BATCH_SIZE = 32  # size of generated batches of images\n",
    "CHANNEL_CNT = 3  # number of channels in images (3 = RGB, 1 = Grayscale)\n",
    "THRESHOLD = 0.22 # classification threshold of the individual models and the ensemble\n",
    "RAND_SEED = 111  # random seed for reproducibility\n",
    "\n",
    "# ------------------------------------------------------------------------------------------------------------------------#\n",
    "np.random.seed(RAND_SEED)\n",
    "tf.random.set_seed(RAND_SEED)\n",
    "random.seed(RAND_SEED)\n",
    "os.environ['PYTHONHASHSEED'] = str(RAND_SEED)\n",
    "\n",
    "warnings.filterwarnings(\"ignore\")"
   ]
  },
  {
   "cell_type": "markdown",
   "metadata": {
    "id": "TOV0IHDLtlRX"
   },
   "source": [
    "\n",
    "## File Imports\n",
    "* Imports files containing helper functions and preprocessing functions."
   ]
  },
  {
   "cell_type": "code",
   "execution_count": 3,
   "metadata": {
    "id": "sh15WjhICF6S"
   },
   "outputs": [],
   "source": [
    "from utils.utils import get_generators, get_class_weights, oversampling, plot_eval\n",
    "from preprocessing.image_preprocessing import *\n",
    "\n",
    "# individual preprocessing functions for pretrained models (applicable to transfer learning)\n",
    "from tensorflow.keras.applications.densenet import preprocess_input as preprocess_densenet\n",
    "from tensorflow.keras.applications.resnet50 import preprocess_input as preprocess_resnet50\n",
    "from tensorflow.keras.applications.vgg16 import preprocess_input as preprocess_vgg16\n",
    "from tensorflow.keras.applications.vgg19 import preprocess_input as preprocess_vgg19\n",
    "from tensorflow.keras.applications.xception import preprocess_input as preprocess_xception"
   ]
  },
  {
   "cell_type": "markdown",
   "metadata": {
    "id": "cpNYL1WDtsRl"
   },
   "source": [
    "## Preprocessor definitions\n",
    "* Preprocessing functions themselves are defined in *BI-BAP/src/preprocessing/image_preprocessing.py*, the following preprocessors are wrappers that allow for calling them within the Image Data Generators with necessary arguments."
   ]
  },
  {
   "cell_type": "code",
   "execution_count": 4,
   "metadata": {
    "id": "7Rdv492cCG9y"
   },
   "outputs": [],
   "source": [
    "# Performs segmentation which aims to remove section of the image with high contrast (removes diaphragm)\n",
    "def preprocessor_remove_diaphragm(img, img_size=(IMG_SIZE)):\n",
    "    removed = remove_diaphragm(img, img_size)[-1]\n",
    "    return removed / 255\n",
    "\n",
    "# Performs RGB variant for Histogram equalization\n",
    "def preprocessor_rgb_histogram_eq(img, img_size=IMG_SIZE):\n",
    "    equalized = rgb_histogram_equalization(img, img_size)[-1]\n",
    "    return equalized / 255\n",
    "\n",
    "# Performs RGB variant for Contrast limited adaptive histogram equalization (CLAHE)\n",
    "def preprocessor_rgb_clahe(img, img_size=IMG_SIZE, clip_limit=3):\n",
    "    equalized = rgb_clahe(img, img_size, clip_limit)[-1]\n",
    "    return equalized / 255\n",
    "\n",
    "# Default preprocessor, only performs resize and scaling\n",
    "def preprocessor(img):\n",
    "    new_img = cv2.resize(img.astype('uint8'), (IMG_SIZE, IMG_SIZE))\n",
    "    return new_img / 255"
   ]
  },
  {
   "cell_type": "markdown",
   "metadata": {
    "id": "_mmSm8nXtyHN"
   },
   "source": [
    "## Ensemble Configuration\n",
    "* Fill the ensemble list with sub-lists where the first element is the loaded trained base model and the second element is the specific model's preprocessing function that will be applied to images during the model's predictions."
   ]
  },
  {
   "cell_type": "code",
   "execution_count": 6,
   "metadata": {
    "id": "KNG1ZqJKCNZj"
   },
   "outputs": [],
   "source": [
    "ensemble = [\n",
    "    [tf.keras.models.load_model(os.path.join(ROOT_PATH, 'models/CNN/cross-validation/basenet/basenet-preprocessor-Adam_0.0001-random--1.h5')), preprocessor],\n",
    "    [tf.keras.models.load_model(os.path.join(ROOT_PATH, 'models/CNN/training/vgg_16/vgg_16-preprocess_input-Adam_0.0001-imagenet-fine_tuning.h5')), preprocess_vgg16],\n",
    "    [tf.keras.models.load_model(os.path.join(ROOT_PATH, 'models/CNN/training/vgg_19/vgg_19-preprocess_input-Adam_0.0001-imagenet-fine_tuning.h5')), preprocess_vgg19],\n",
    "    [tf.keras.models.load_model(os.path.join(ROOT_PATH, 'models/CNN/training/resnet_50/resnet_50-preprocess_input-Adam_0.0001-imagenet-fine_tuning.h5')), preprocess_resnet50],\n",
    "    [tf.keras.models.load_model(os.path.join(ROOT_PATH, 'models/CNN/training/densenet_121/densenet_121-preprocess_input-Adam_0.0001-chexnet-fine_tuning.h5')), preprocess_densenet],\n",
    "    [tf.keras.models.load_model(os.path.join(ROOT_PATH, 'models/CNN/training/xception/xception-preprocess_input-Adam_0.0001-imagenet-fine_tuning.h5')), preprocess_xception]   \n",
    "]"
   ]
  },
  {
   "cell_type": "markdown",
   "metadata": {
    "id": "BlEm7aJ9uMw2"
   },
   "source": [
    "* Function for calculating the predicted probabilities of one base model from the ensemble for all data in the test set (can be adapted for predictions on training set as well)."
   ]
  },
  {
   "cell_type": "code",
   "execution_count": 7,
   "metadata": {
    "id": "lvNQnlsFGA3p"
   },
   "outputs": [],
   "source": [
    "def base_model_predict(cnn, preprocessing_function):\n",
    "    datagen_eval = ImageDataGenerator(preprocessing_function=preprocessing_function)\n",
    "    train_gen, _, test_gen = get_generators(datagen_eval, TRAIN_DIR, TEST_DIR, IMG_SIZE, BATCH_SIZE, CHANNEL_CNT, False, RAND_SEED)\n",
    "\n",
    "    y_pred_prob = cnn.predict(test_gen)\n",
    "    y_pred = y_pred_prob.copy()\n",
    "    y_pred[y_pred <= THRESHOLD] = 0\n",
    "    y_pred[y_pred > THRESHOLD] = 1\n",
    "    y_true = test_gen.classes[test_gen.index_array]\n",
    "    return y_pred, y_pred_prob, y_true"
   ]
  },
  {
   "cell_type": "markdown",
   "metadata": {
    "id": "RM899zfVuSya"
   },
   "source": [
    "* Gather predicted probabilities of all base models in the ensemble."
   ]
  },
  {
   "cell_type": "code",
   "execution_count": 8,
   "metadata": {
    "id": "PRT-efIzHzFX"
   },
   "outputs": [],
   "source": [
    "%%capture\n",
    "ensemble_pred_prob = []\n",
    "for cnn in ensemble:\n",
    "    y_pred, y_pred_prob, y_true = base_model_predict(cnn[0], cnn[1])\n",
    "    ensemble_pred_prob.append(y_pred_prob)\n",
    "\n",
    "# calculate the mean of estimated probability per each image from all of the base models' predictions\n",
    "ensemble_preds_prob = np.asarray(np.mean(np.dstack(ensemble_pred_prob), axis=2))"
   ]
  },
  {
   "cell_type": "markdown",
   "metadata": {
    "id": "nig-unISvBFX"
   },
   "source": [
    "* Use specified classification threshold to classify the mean probabilities into the binary classes as either positive (1) or negative (0)."
   ]
  },
  {
   "cell_type": "code",
   "execution_count": 9,
   "metadata": {
    "id": "fp49B4dKGoXo"
   },
   "outputs": [],
   "source": [
    "thresholded_prob = ensemble_preds_prob.copy()\n",
    "thresholded_prob[thresholded_prob <= THRESHOLD] = 0\n",
    "thresholded_prob[thresholded_prob > THRESHOLD] = 1"
   ]
  },
  {
   "cell_type": "markdown",
   "metadata": {
    "id": "_2PaWAvRvK7N"
   },
   "source": [
    "* Calculate evaluation metrics."
   ]
  },
  {
   "cell_type": "code",
   "execution_count": 10,
   "metadata": {
    "colab": {
     "base_uri": "https://localhost:8080/"
    },
    "executionInfo": {
     "elapsed": 199374,
     "status": "ok",
     "timestamp": 1620328592637,
     "user": {
      "displayName": "Dominik Chodounský",
      "photoUrl": "https://lh3.googleusercontent.com/a-/AOh14GjNmWDOLc-NuGD9Xr0KvzM73F9ILBv_90bwUeHxjFI=s64",
      "userId": "06183087380014227524"
     },
     "user_tz": -120
    },
    "id": "0cDaDsoOmL8J",
    "outputId": "add68bed-2ae0-4d55-9467-2cb913a29e32"
   },
   "outputs": [
    {
     "name": "stdout",
     "output_type": "stream",
     "text": [
      "              precision    recall  f1-score   support\n",
      "\n",
      "           0       0.99      1.00      0.99       200\n",
      "           1       1.00      0.98      0.99       200\n",
      "\n",
      "    accuracy                           0.99       400\n",
      "   macro avg       0.99      0.99      0.99       400\n",
      "weighted avg       0.99      0.99      0.99       400\n",
      "\n"
     ]
    }
   ],
   "source": [
    "print(classification_report(y_true, thresholded_prob))"
   ]
  },
  {
   "cell_type": "code",
   "execution_count": 11,
   "metadata": {
    "colab": {
     "base_uri": "https://localhost:8080/"
    },
    "executionInfo": {
     "elapsed": 199188,
     "status": "ok",
     "timestamp": 1620328592638,
     "user": {
      "displayName": "Dominik Chodounský",
      "photoUrl": "https://lh3.googleusercontent.com/a-/AOh14GjNmWDOLc-NuGD9Xr0KvzM73F9ILBv_90bwUeHxjFI=s64",
      "userId": "06183087380014227524"
     },
     "user_tz": -120
    },
    "id": "IRMEprglLkI4",
    "outputId": "140c1f40-0e1d-47e8-e8a8-22e3e354b4fa"
   },
   "outputs": [
    {
     "data": {
      "text/plain": [
       "(0.9925, 0.985, 1.0, 1.0)"
      ]
     },
     "execution_count": 11,
     "metadata": {},
     "output_type": "execute_result"
    }
   ],
   "source": [
    "tn, fp, fn, tp = confusion_matrix(y_true, thresholded_prob).ravel()\n",
    "\n",
    "# Binary Accuracy, Sensitivity (TPR), Specificity (TNR), Positive Predictive Value (PPV)\n",
    "(tp+tn)/(tp+tn+fp+fn), tp/(tp+fn), tn/(tn+fp), tp/(tp+fp)"
   ]
  },
  {
   "cell_type": "markdown",
   "metadata": {
    "id": "vFx-uxEYvTB9"
   },
   "source": [
    "* Calculate the optimal threshold for given data.\n",
    "\n",
    "* *(Note: For COVIDx8B training set, the optimal classification threshold was calculated to be 0.32 and for COVIDx3 it was 0.03)*\n"
   ]
  },
  {
   "cell_type": "code",
   "execution_count": null,
   "metadata": {
    "colab": {
     "base_uri": "https://localhost:8080/"
    },
    "executionInfo": {
     "elapsed": 557,
     "status": "ok",
     "timestamp": 1620768574824,
     "user": {
      "displayName": "Dominik Chodounský",
      "photoUrl": "",
      "userId": "03998523176855972652"
     },
     "user_tz": -120
    },
    "id": "qhR_8jZTkq2c",
    "outputId": "a526fafd-9e12-45a7-c456-353a2b910252"
   },
   "outputs": [
    {
     "name": "stdout",
     "output_type": "stream",
     "text": [
      "Optimal threhold which maximizes TPR and minimizes FPR is: 0.32\n"
     ]
    }
   ],
   "source": [
    "fpr, tpr, thresholds = roc_curve(y_true,ensemble_preds_prob)\n",
    "print(f'Optimal threhold which maximizes TPR and minimizes FPR is: {thresholds[np.argmax(tpr - fpr)]:.2f}')"
   ]
  },
  {
   "cell_type": "markdown",
   "metadata": {
    "id": "PHA_om4Svom9"
   },
   "source": [
    "* Calculate the combined optimal threshold for both of the dataset versions by taking their weighted average (COVIDx8B has double the weight of COVIDx3)."
   ]
  },
  {
   "cell_type": "code",
   "execution_count": 12,
   "metadata": {
    "colab": {
     "base_uri": "https://localhost:8080/"
    },
    "executionInfo": {
     "elapsed": 1199,
     "status": "ok",
     "timestamp": 1620328593880,
     "user": {
      "displayName": "Dominik Chodounský",
      "photoUrl": "https://lh3.googleusercontent.com/a-/AOh14GjNmWDOLc-NuGD9Xr0KvzM73F9ILBv_90bwUeHxjFI=s64",
      "userId": "06183087380014227524"
     },
     "user_tz": -120
    },
    "id": "Xz6mU0kPS8pl",
    "outputId": "e4649f2c-2643-4346-9b02-776d0ba1820e"
   },
   "outputs": [
    {
     "name": "stdout",
     "output_type": "stream",
     "text": [
      "The combined optimal threshold for both dataset versions is: 0.22\n"
     ]
    }
   ],
   "source": [
    "COVIDx8B_threshold = 0.32\n",
    "COVIDx3_threshold = 0.03\n",
    "print(f'The combined optimal threshold for both dataset versions is: {np.average([COVIDx8B_threshold, COVIDx3_threshold], weights=[2, 1]):.2f}')"
   ]
  },
  {
   "cell_type": "markdown",
   "metadata": {
    "id": "actK0fn5v4bq"
   },
   "source": [
    "* Plot confusion matrix and ROC curve."
   ]
  },
  {
   "cell_type": "code",
   "execution_count": 13,
   "metadata": {
    "colab": {
     "base_uri": "https://localhost:8080/",
     "height": 593
    },
    "executionInfo": {
     "elapsed": 2165,
     "status": "ok",
     "timestamp": 1620328594864,
     "user": {
      "displayName": "Dominik Chodounský",
      "photoUrl": "https://lh3.googleusercontent.com/a-/AOh14GjNmWDOLc-NuGD9Xr0KvzM73F9ILBv_90bwUeHxjFI=s64",
      "userId": "06183087380014227524"
     },
     "user_tz": -120
    },
    "id": "XxOGtzWqQysZ",
    "outputId": "69c8d035-7164-410b-e64d-458287f523fe"
   },
   "outputs": [
    {
     "data": {
      "image/png": "[encoded data removed]",
      "text/plain": [
       "<Figure size 432x288 with 2 Axes>"
      ]
     },
     "metadata": {
      "needs_background": "light"
     },
     "output_type": "display_data"
    },
    {
     "data": {
      "image/png": "[encoded data removed]",
      "text/plain": [
       "<Figure size 432x288 with 1 Axes>"
      ]
     },
     "metadata": {
      "needs_background": "light"
     },
     "output_type": "display_data"
    }
   ],
   "source": [
    "plot_eval(y_true, ensemble_preds_prob, thresholded_prob)"
   ]
  }
 ],
 "metadata": {
  "accelerator": "GPU",
  "colab": {
   "collapsed_sections": [],
   "name": "Ensemble.ipynb",
   "provenance": [],
   "toc_visible": true
  },
  "kernelspec": {
   "display_name": "Python 3",
   "language": "python",
   "name": "python3"
  },
  "language_info": {
   "codemirror_mode": {
    "name": "ipython",
    "version": 3
   },
   "file_extension": ".py",
   "mimetype": "text/x-python",
   "name": "python",
   "nbconvert_exporter": "python",
   "pygments_lexer": "ipython3",
   "version": "3.8.8"
  }
 },
 "nbformat": 4,
 "nbformat_minor": 1
}
